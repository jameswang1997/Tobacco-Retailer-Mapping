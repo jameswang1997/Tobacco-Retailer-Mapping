{
 "cells": [
  {
   "cell_type": "markdown",
   "metadata": {},
   "source": [
    "## Import Packages"
   ]
  },
  {
   "cell_type": "code",
   "execution_count": 1,
   "metadata": {
    "ExecuteTime": {
     "end_time": "2018-08-29T13:48:04.674417Z",
     "start_time": "2018-08-29T13:48:03.473206Z"
    },
    "collapsed": true
   },
   "outputs": [],
   "source": [
    "import pandas as pd\n",
    "import numpy as np\n",
    "import os\n",
    "import string\n",
    "import re\n",
    "import toolz as tz\n",
    "import toolz.curried as c\n",
    "import matplotlib.pyplot as plt\n",
    "import seaborn as sns\n",
    "import pickle\n",
    "%matplotlib inline"
   ]
  },
  {
   "cell_type": "code",
   "execution_count": 4,
   "metadata": {
    "ExecuteTime": {
     "end_time": "2018-08-29T13:48:50.014900Z",
     "start_time": "2018-08-29T13:48:49.881925Z"
    },
    "collapsed": true
   },
   "outputs": [],
   "source": [
    "# ML packages\n",
    "from sklearn.pipeline import make_pipeline\n",
    "from sklearn.preprocessing import StandardScaler\n",
    "from sklearn.model_selection import GridSearchCV\n",
    "from sklearn.model_selection import train_test_split\n",
    "# Import Elastic Net, Ridge Regression, and Lasso Regression\n",
    "from sklearn.linear_model import LogisticRegression\n",
    "from sklearn.ensemble import RandomForestClassifier, GradientBoostingClassifier\n",
    "from sklearn.multiclass import OneVsOneClassifier\n",
    "from sklearn.svm import LinearSVC\n",
    "from sklearn.tree import DecisionTreeClassifier, export_graphviz"
   ]
  },
  {
   "cell_type": "markdown",
   "metadata": {},
   "source": [
    "http://mlwiki.org/index.php/TF-IDF    tfidf site"
   ]
  },
  {
   "cell_type": "markdown",
   "metadata": {},
   "source": [
    "## clean up original df dataset"
   ]
  },
  {
   "cell_type": "code",
   "execution_count": 5,
   "metadata": {
    "ExecuteTime": {
     "end_time": "2018-08-29T13:48:52.437641Z",
     "start_time": "2018-08-29T13:48:52.198587Z"
    },
    "collapsed": true
   },
   "outputs": [],
   "source": [
    "df =pd.read_csv(\"./combined_recoded_data_deidentified.csv\")\n",
    "df = df.loc[:,:'retail_st_geo'] # subset only relevent data\n",
    "df= df[(df.str_typ.notnull()) & (df.retail_name.notnull())] # only choose those who have store type\n",
    "# merge tobacco/hookah/ane e-cig\n",
    "df['str_typ'][df['str_typ'].isin([\"(6) Tobacco shop\",'(7) Hookah lounge','(8) E-cigarette/Vape shop'])] = \"Tobacco Hookah ECig\""
   ]
  },
  {
   "cell_type": "code",
   "execution_count": 5,
   "metadata": {
    "ExecuteTime": {
     "end_time": "2018-08-13T15:33:36.545001Z",
     "start_time": "2018-08-13T15:33:36.486446Z"
    },
    "collapsed": true
   },
   "outputs": [],
   "source": [
    "# change label\n",
    "df.str_typ = df.str_typ.str.replace(r\"\\(.\\) \", \"\")\n"
   ]
  },
  {
   "cell_type": "markdown",
   "metadata": {},
   "source": [
    "### create a seperate store type for no tobacco. see if that's better for predicition"
   ]
  },
  {
   "cell_type": "code",
   "execution_count": 6,
   "metadata": {
    "ExecuteTime": {
     "end_time": "2018-08-13T15:33:45.228283Z",
     "start_time": "2018-08-13T15:33:45.208061Z"
    },
    "collapsed": true
   },
   "outputs": [],
   "source": [
    "#df.str_typ[df.c_any_tob_sld == 0] = \"No Tobacco\"\n",
    "df[\"str_typ1\"] = df.str_typ.str.replace(\" .*\", \"\")"
   ]
  },
  {
   "cell_type": "markdown",
   "metadata": {},
   "source": [
    "put every store_type in a dict: a list of all storenames"
   ]
  },
  {
   "cell_type": "code",
   "execution_count": 7,
   "metadata": {
    "ExecuteTime": {
     "end_time": "2018-08-13T15:33:47.111847Z",
     "start_time": "2018-08-13T15:33:47.104587Z"
    }
   },
   "outputs": [
    {
     "data": {
      "text/plain": [
       "16544"
      ]
     },
     "execution_count": 7,
     "metadata": {},
     "output_type": "execute_result"
    }
   ],
   "source": [
    "df.retail_name.notnull().sum()"
   ]
  },
  {
   "cell_type": "code",
   "execution_count": 8,
   "metadata": {
    "ExecuteTime": {
     "end_time": "2018-08-13T15:33:49.367699Z",
     "start_time": "2018-08-13T15:33:49.221472Z"
    }
   },
   "outputs": [
    {
     "name": "stderr",
     "output_type": "stream",
     "text": [
      "/Users/JamesWang1/anaconda3/lib/python3.6/site-packages/ipykernel_launcher.py:2: SettingWithCopyWarning: \n",
      "A value is trying to be set on a copy of a slice from a DataFrame\n",
      "\n",
      "See the caveats in the documentation: http://pandas.pydata.org/pandas-docs/stable/indexing.html#indexing-view-versus-copy\n",
      "  \n"
     ]
    }
   ],
   "source": [
    "df.retail_name = df.retail_name.str.lower()\n",
    "df.retail_name[df.retail_name.str.contains(\"eleven\")] = \"seveneleven\"\n",
    "df.retail_name = df.retail_name.str.replace(r\"\\#.*\",\"\")\\\n",
    "                 .str.replace('[-]','').str.replace('&*amp;', \"\").str.replace('\\ & ', \"\").str.replace(\"\\s*&\\s*\", ' and ')\n"
   ]
  },
  {
   "cell_type": "code",
   "execution_count": 9,
   "metadata": {
    "ExecuteTime": {
     "end_time": "2018-08-13T15:34:01.394810Z",
     "start_time": "2018-08-13T15:34:01.391675Z"
    },
    "collapsed": true
   },
   "outputs": [],
   "source": [
    "#df.loc[df.retail_name.str.contains(';')]"
   ]
  },
  {
   "cell_type": "code",
   "execution_count": 10,
   "metadata": {
    "ExecuteTime": {
     "end_time": "2018-08-13T15:34:02.040860Z",
     "start_time": "2018-08-13T15:34:01.890190Z"
    }
   },
   "outputs": [
    {
     "name": "stderr",
     "output_type": "stream",
     "text": [
      "/Users/JamesWang1/anaconda3/lib/python3.6/site-packages/ipykernel_launcher.py:1: SettingWithCopyWarning: \n",
      "A value is trying to be set on a copy of a slice from a DataFrame.\n",
      "Try using .loc[row_indexer,col_indexer] = value instead\n",
      "\n",
      "See the caveats in the documentation: http://pandas.pydata.org/pandas-docs/stable/indexing.html#indexing-view-versus-copy\n",
      "  \"\"\"Entry point for launching an IPython kernel.\n"
     ]
    }
   ],
   "source": [
    "df[df['str_typ1'] == 'Tobacco']['c_any_tob_sld'] = 0 # why can't i change it\n",
    "\n",
    "df.reset_index(inplace = True)"
   ]
  },
  {
   "cell_type": "code",
   "execution_count": 11,
   "metadata": {
    "ExecuteTime": {
     "end_time": "2018-08-13T15:34:03.132577Z",
     "start_time": "2018-08-13T15:34:03.106028Z"
    }
   },
   "outputs": [
    {
     "data": {
      "text/html": [
       "<div>\n",
       "<style>\n",
       "    .dataframe thead tr:only-child th {\n",
       "        text-align: right;\n",
       "    }\n",
       "\n",
       "    .dataframe thead th {\n",
       "        text-align: left;\n",
       "    }\n",
       "\n",
       "    .dataframe tbody tr th {\n",
       "        vertical-align: top;\n",
       "    }\n",
       "</style>\n",
       "<table border=\"1\" class=\"dataframe\">\n",
       "  <thead>\n",
       "    <tr style=\"text-align: right;\">\n",
       "      <th></th>\n",
       "      <th>retail_name</th>\n",
       "      <th>retail_state</th>\n",
       "      <th>snap</th>\n",
       "      <th>wic</th>\n",
       "      <th>alcohol</th>\n",
       "      <th>pharmacy</th>\n",
       "      <th>any_tob_sld</th>\n",
       "      <th>str_typ</th>\n",
       "      <th>year</th>\n",
       "      <th>can_surveyD</th>\n",
       "      <th>storelistmatch</th>\n",
       "      <th>c_any_str_typ</th>\n",
       "      <th>c_any_tob_sld</th>\n",
       "      <th>retail_st_geo</th>\n",
       "      <th>str_typ1</th>\n",
       "    </tr>\n",
       "  </thead>\n",
       "  <tbody>\n",
       "    <tr>\n",
       "      <th>0</th>\n",
       "      <td>1st avenue citgo</td>\n",
       "      <td>AL</td>\n",
       "      <td>0.0</td>\n",
       "      <td>0.0</td>\n",
       "      <td>1.0</td>\n",
       "      <td>0.0</td>\n",
       "      <td>1.0</td>\n",
       "      <td>Convenience store with or without gas</td>\n",
       "      <td>2016.0</td>\n",
       "      <td>1.0</td>\n",
       "      <td>1</td>\n",
       "      <td>1</td>\n",
       "      <td>1.0</td>\n",
       "      <td>Alabama</td>\n",
       "      <td>Convenience</td>\n",
       "    </tr>\n",
       "    <tr>\n",
       "      <th>1</th>\n",
       "      <td>1st avenue exxon</td>\n",
       "      <td>AL</td>\n",
       "      <td>1.0</td>\n",
       "      <td>1.0</td>\n",
       "      <td>1.0</td>\n",
       "      <td>0.0</td>\n",
       "      <td>1.0</td>\n",
       "      <td>Convenience store with or without gas</td>\n",
       "      <td>2016.0</td>\n",
       "      <td>1.0</td>\n",
       "      <td>1</td>\n",
       "      <td>1</td>\n",
       "      <td>1.0</td>\n",
       "      <td>Alabama</td>\n",
       "      <td>Convenience</td>\n",
       "    </tr>\n",
       "    <tr>\n",
       "      <th>2</th>\n",
       "      <td>40th street grocery</td>\n",
       "      <td>AL</td>\n",
       "      <td>1.0</td>\n",
       "      <td>0.0</td>\n",
       "      <td>1.0</td>\n",
       "      <td>0.0</td>\n",
       "      <td>1.0</td>\n",
       "      <td>Convenience store with or without gas</td>\n",
       "      <td>2016.0</td>\n",
       "      <td>1.0</td>\n",
       "      <td>1</td>\n",
       "      <td>1</td>\n",
       "      <td>1.0</td>\n",
       "      <td>Alabama</td>\n",
       "      <td>Convenience</td>\n",
       "    </tr>\n",
       "    <tr>\n",
       "      <th>3</th>\n",
       "      <td>6th ave exxon</td>\n",
       "      <td>AL</td>\n",
       "      <td>1.0</td>\n",
       "      <td>1.0</td>\n",
       "      <td>1.0</td>\n",
       "      <td>0.0</td>\n",
       "      <td>1.0</td>\n",
       "      <td>Convenience store with or without gas</td>\n",
       "      <td>2016.0</td>\n",
       "      <td>1.0</td>\n",
       "      <td>1</td>\n",
       "      <td>1</td>\n",
       "      <td>1.0</td>\n",
       "      <td>Alabama</td>\n",
       "      <td>Convenience</td>\n",
       "    </tr>\n",
       "    <tr>\n",
       "      <th>4</th>\n",
       "      <td>77th food mart</td>\n",
       "      <td>AL</td>\n",
       "      <td>0.0</td>\n",
       "      <td>0.0</td>\n",
       "      <td>1.0</td>\n",
       "      <td>0.0</td>\n",
       "      <td>1.0</td>\n",
       "      <td>Convenience store with or without gas</td>\n",
       "      <td>2016.0</td>\n",
       "      <td>1.0</td>\n",
       "      <td>1</td>\n",
       "      <td>1</td>\n",
       "      <td>1.0</td>\n",
       "      <td>Alabama</td>\n",
       "      <td>Convenience</td>\n",
       "    </tr>\n",
       "  </tbody>\n",
       "</table>\n",
       "</div>"
      ],
      "text/plain": [
       "           retail_name retail_state  snap  wic  alcohol  pharmacy  \\\n",
       "0     1st avenue citgo           AL   0.0  0.0      1.0       0.0   \n",
       "1     1st avenue exxon           AL   1.0  1.0      1.0       0.0   \n",
       "2  40th street grocery           AL   1.0  0.0      1.0       0.0   \n",
       "3        6th ave exxon           AL   1.0  1.0      1.0       0.0   \n",
       "4       77th food mart           AL   0.0  0.0      1.0       0.0   \n",
       "\n",
       "   any_tob_sld                                str_typ    year  can_surveyD  \\\n",
       "0          1.0  Convenience store with or without gas  2016.0          1.0   \n",
       "1          1.0  Convenience store with or without gas  2016.0          1.0   \n",
       "2          1.0  Convenience store with or without gas  2016.0          1.0   \n",
       "3          1.0  Convenience store with or without gas  2016.0          1.0   \n",
       "4          1.0  Convenience store with or without gas  2016.0          1.0   \n",
       "\n",
       "   storelistmatch  c_any_str_typ  c_any_tob_sld retail_st_geo     str_typ1  \n",
       "0               1              1            1.0       Alabama  Convenience  \n",
       "1               1              1            1.0       Alabama  Convenience  \n",
       "2               1              1            1.0       Alabama  Convenience  \n",
       "3               1              1            1.0       Alabama  Convenience  \n",
       "4               1              1            1.0       Alabama  Convenience  "
      ]
     },
     "execution_count": 11,
     "metadata": {},
     "output_type": "execute_result"
    }
   ],
   "source": [
    "# index column is unnecessary\n",
    "df.drop('index', axis = 1, inplace = True)\n",
    "df.head() "
   ]
  },
  {
   "cell_type": "code",
   "execution_count": 12,
   "metadata": {
    "ExecuteTime": {
     "end_time": "2018-08-13T15:34:05.993379Z",
     "start_time": "2018-08-13T15:34:05.990025Z"
    },
    "collapsed": true
   },
   "outputs": [],
   "source": [
    "# Need to be done later: \n",
    "# obviously more string cleaning is needed\n",
    "# we need to convert all the major stores into the same name "
   ]
  },
  {
   "cell_type": "markdown",
   "metadata": {},
   "source": [
    "### some EDA, why current dataset is not useful in predicting c_any_tob_sob: too few 0s "
   ]
  },
  {
   "cell_type": "code",
   "execution_count": 13,
   "metadata": {
    "ExecuteTime": {
     "end_time": "2018-08-13T15:34:06.884846Z",
     "start_time": "2018-08-13T15:34:06.712883Z"
    }
   },
   "outputs": [
    {
     "data": {
      "text/plain": [
       "<matplotlib.axes._subplots.AxesSubplot at 0x10c5d72b0>"
      ]
     },
     "execution_count": 13,
     "metadata": {},
     "output_type": "execute_result"
    },
    {
     "data": {
      "image/png": "[encoded data removed]",
      "text/plain": [
       "<Figure size 432x288 with 1 Axes>"
      ]
     },
     "metadata": {},
     "output_type": "display_data"
    }
   ],
   "source": [
    "sns.countplot(x = 'str_typ1', hue = 'c_any_tob_sld', data= df )"
   ]
  },
  {
   "cell_type": "code",
   "execution_count": 14,
   "metadata": {
    "ExecuteTime": {
     "end_time": "2018-08-13T15:34:07.748534Z",
     "start_time": "2018-08-13T15:34:07.737159Z"
    }
   },
   "outputs": [
    {
     "data": {
      "text/plain": [
       "Convenience    55.887331\n",
       "Grocery        12.149420\n",
       "Beer,           7.984768\n",
       "Other           7.888056\n",
       "Mass            7.785300\n",
       "Drug            4.902079\n",
       "Tobacco         3.403046\n",
       "Name: str_typ1, dtype: float64"
      ]
     },
     "execution_count": 14,
     "metadata": {},
     "output_type": "execute_result"
    }
   ],
   "source": [
    "df['str_typ1'].value_counts()/df.shape[0] * 100"
   ]
  },
  {
   "cell_type": "code",
   "execution_count": 15,
   "metadata": {
    "ExecuteTime": {
     "end_time": "2018-08-13T15:34:08.810719Z",
     "start_time": "2018-08-13T15:34:08.798040Z"
    }
   },
   "outputs": [
    {
     "name": "stderr",
     "output_type": "stream",
     "text": [
      "/Users/JamesWang1/anaconda3/lib/python3.6/site-packages/ipykernel_launcher.py:1: FutureWarning: using a dict on a Series for aggregation\n",
      "is deprecated and will be removed in a future version\n",
      "  \"\"\"Entry point for launching an IPython kernel.\n"
     ]
    },
    {
     "data": {
      "text/html": [
       "<div>\n",
       "<style>\n",
       "    .dataframe thead tr:only-child th {\n",
       "        text-align: right;\n",
       "    }\n",
       "\n",
       "    .dataframe thead th {\n",
       "        text-align: left;\n",
       "    }\n",
       "\n",
       "    .dataframe tbody tr th {\n",
       "        vertical-align: top;\n",
       "    }\n",
       "</style>\n",
       "<table border=\"1\" class=\"dataframe\">\n",
       "  <thead>\n",
       "    <tr style=\"text-align: right;\">\n",
       "      <th></th>\n",
       "      <th>pct</th>\n",
       "    </tr>\n",
       "    <tr>\n",
       "      <th>str_typ1</th>\n",
       "      <th></th>\n",
       "    </tr>\n",
       "  </thead>\n",
       "  <tbody>\n",
       "    <tr>\n",
       "      <th>Beer,</th>\n",
       "      <td>0.958478</td>\n",
       "    </tr>\n",
       "    <tr>\n",
       "      <th>Convenience</th>\n",
       "      <td>0.996286</td>\n",
       "    </tr>\n",
       "    <tr>\n",
       "      <th>Grocery</th>\n",
       "      <td>0.963733</td>\n",
       "    </tr>\n",
       "    <tr>\n",
       "      <th>Mass</th>\n",
       "      <td>0.966503</td>\n",
       "    </tr>\n",
       "    <tr>\n",
       "      <th>Tobacco</th>\n",
       "      <td>0.973948</td>\n",
       "    </tr>\n",
       "  </tbody>\n",
       "</table>\n",
       "</div>"
      ],
      "text/plain": [
       "                  pct\n",
       "str_typ1             \n",
       "Beer,        0.958478\n",
       "Convenience  0.996286\n",
       "Grocery      0.963733\n",
       "Mass         0.966503\n",
       "Tobacco      0.973948"
      ]
     },
     "execution_count": 15,
     "metadata": {},
     "output_type": "execute_result"
    }
   ],
   "source": [
    "a = df.groupby('str_typ1')['c_any_tob_sld'].agg({'pct': 'mean'})\n",
    "# if assuming this ground truthing sample is representative\n",
    "a[a['pct']>.95] # those stores are almost always tobacco sellers, especially convenience store"
   ]
  },
  {
   "cell_type": "markdown",
   "metadata": {},
   "source": [
    "## put bag of words into dictionary, key = store type"
   ]
  },
  {
   "cell_type": "markdown",
   "metadata": {},
   "source": [
    "need tfidf, but can't just collapse all the words together. otherwise two store names may get mooshed and confuse the classification"
   ]
  },
  {
   "cell_type": "markdown",
   "metadata": {},
   "source": [
    "### what's to be done? \n",
    "under column drug store, \"rite aid\" contains \"rite\", \"aid\", \"rite aid\", so add the 3 scores to it\n",
    "\n"
   ]
  },
  {
   "cell_type": "markdown",
   "metadata": {},
   "source": [
    "preprocessing using packages\n",
    "https://stackoverflow.com/questions/48865150/pipeline-for-text-cleaning-processing-in-python"
   ]
  },
  {
   "cell_type": "markdown",
   "metadata": {},
   "source": [
    "## TFIDF"
   ]
  },
  {
   "cell_type": "code",
   "execution_count": 16,
   "metadata": {
    "ExecuteTime": {
     "end_time": "2018-08-13T15:34:13.341433Z",
     "start_time": "2018-08-13T15:34:13.318653Z"
    },
    "collapsed": true
   },
   "outputs": [],
   "source": [
    "# or this way\n",
    "# https://stackoverflow.com/questions/26195699/sklearn-how-to-speed-up-a-vectorizer-eg-tfidfvectorizer\n",
    "import Stemmer\n",
    "from sklearn.feature_extraction.text import TfidfVectorizer\n",
    "english_stemmer = Stemmer.Stemmer('en') # stem words\n",
    "class StemmedTfidfVectorizer(TfidfVectorizer):\n",
    "    def build_analyzer(self):\n",
    "        analyzer = super(TfidfVectorizer, self).build_analyzer()\n",
    "        return lambda doc: english_stemmer.stemWords(analyzer(doc))\n"
   ]
  },
  {
   "cell_type": "markdown",
   "metadata": {},
   "source": [
    "### make ngrams manually?"
   ]
  },
  {
   "cell_type": "code",
   "execution_count": 17,
   "metadata": {
    "ExecuteTime": {
     "end_time": "2018-08-13T15:34:16.470260Z",
     "start_time": "2018-08-13T15:34:16.315116Z"
    },
    "collapsed": true
   },
   "outputs": [],
   "source": [
    "tfidf_n = TfidfVectorizer(min_df=1, stop_words=None, analyzer='word',\n",
    "                               ngram_range=(1,3), sublinear_tf= False, token_pattern= '(?u)\\S\\S+')\n",
    "# next: write a function for each str_type and its belonged retail_names.\n",
    "from itertools import chain\n",
    "def tokenize1(str_type):\n",
    "        b = list(map(lambda x: tfidf_n.build_analyzer()(x), df.retail_name[df.str_typ== str_type])) \n",
    "\n",
    "        return list(chain(*b))\n",
    "dict1 = {}\n",
    "colNames = list(df.str_typ.unique())\n",
    "\n",
    "for i in colNames:\n",
    "    dict1[i] = \"!!!\".join(tokenize1(i)) # join by 3 !, most likely not appear in store name\n"
   ]
  },
  {
   "cell_type": "markdown",
   "metadata": {},
   "source": [
    "### Make TFIDF"
   ]
  },
  {
   "cell_type": "code",
   "execution_count": 18,
   "metadata": {
    "ExecuteTime": {
     "end_time": "2018-08-13T15:34:18.055122Z",
     "start_time": "2018-08-13T15:34:17.884264Z"
    },
    "collapsed": true
   },
   "outputs": [],
   "source": [
    "# parameters for NB: stop_word = None cuz not sentence, sublinear_tf= True to not count 2 occurance as merely 2 since it's \n",
    "# not as fair. token_pattern: only seperate by comma (remove space), not remove punctuation like 'Wal-mart' \n",
    "tfidf = StemmedTfidfVectorizer(min_df=1, stop_words=None, analyzer='word',\n",
    "                               ngram_range=(1,1), sublinear_tf= True, token_pattern= '[^!!!]+'\n",
    ")\n",
    "# get tfidf dictionary\n",
    "tfidf1 = tfidf.fit_transform(dict1.values())\n",
    "# still have the issue for label loss"
   ]
  },
  {
   "cell_type": "markdown",
   "metadata": {},
   "source": [
    "Convert that to DF"
   ]
  },
  {
   "cell_type": "code",
   "execution_count": 19,
   "metadata": {
    "ExecuteTime": {
     "end_time": "2018-08-13T15:34:19.982362Z",
     "start_time": "2018-08-13T15:34:19.976175Z"
    }
   },
   "outputs": [
    {
     "data": {
      "text/plain": [
       "StemmedTfidfVectorizer(analyzer='word', binary=False, decode_error='strict',\n",
       "            dtype=<class 'numpy.int64'>, encoding='utf-8', input='content',\n",
       "            lowercase=True, max_df=1.0, max_features=None, min_df=1,\n",
       "            ngram_range=(1, 1), norm='l2', preprocessor=None,\n",
       "            smooth_idf=True, stop_words=None, strip_accents=None,\n",
       "            sublinear_tf=True, token_pattern='[^!!!]+', tokenizer=None,\n",
       "            use_idf=True, vocabulary=None)"
      ]
     },
     "execution_count": 19,
     "metadata": {},
     "output_type": "execute_result"
    }
   ],
   "source": [
    "tfidf"
   ]
  },
  {
   "cell_type": "markdown",
   "metadata": {},
   "source": [
    "Convert back to dataframe and put colname/rowname"
   ]
  },
  {
   "cell_type": "code",
   "execution_count": 20,
   "metadata": {
    "ExecuteTime": {
     "end_time": "2018-08-13T15:34:22.669547Z",
     "start_time": "2018-08-13T15:34:22.637544Z"
    },
    "collapsed": true
   },
   "outputs": [],
   "source": [
    "tfidf_df = pd.DataFrame(tfidf1.T.todense())\n",
    "tfidf_df.columns = list(dict1.keys())\n",
    "# some how can't reset index\n",
    "tfidf_df[\"token\"] = tfidf.get_feature_names()\n",
    "tfidf_df.set_index('token', inplace=True)\n",
    "str_typ_names =list(dict1.keys()) # turn dict() back to list()\n",
    "#tfidf_df.sort_values(by =str_typ_names[4] ,ascending= False)[:30] # not the best tokenizer, still need a way to seperate out different store names"
   ]
  },
  {
   "cell_type": "code",
   "execution_count": 21,
   "metadata": {
    "ExecuteTime": {
     "end_time": "2018-08-13T15:34:23.844377Z",
     "start_time": "2018-08-13T15:34:23.832498Z"
    }
   },
   "outputs": [
    {
     "data": {
      "text/plain": [
       "Index(['dixie stor', 'winn dixie stor', 'food lion', 'publix sup',\n",
       "       'publix super market', 'marsh supermarkets llc', 'supermarkets llc',\n",
       "       'marsh', 'marsh supermarket', 'super markets inc', 'hannaford', 'lion',\n",
       "       'super one food', 'marketplace food', 'publix', 'iga',\n",
       "       'shaw's beer win', 'shaw's beer', 'supermarket', 'save lot',\n",
       "       'hometown food', 'markets inc', 'giant eagl', 'super on', 'giant',\n",
       "       'shaw', 'kroger', 'quillin', 'bravo', 'winndixie stor',\n",
       "       'bravo supermarket', 'super market', 'fareway', 'lion stor',\n",
       "       'food lion stor', 'one food', 'groceri', 'meat', 'carlie c', 'maynard',\n",
       "       'carli', 'zup', 'hyve', 'food', 'cub food', 'family food', 'hitchcock',\n",
       "       'fiesta food', 'food drug', 'hannaford supermarket'],\n",
       "      dtype='object', name='token')"
      ]
     },
     "execution_count": 21,
     "metadata": {},
     "output_type": "execute_result"
    }
   ],
   "source": [
    "colNames = tfidf_df.columns \n",
    "# get top 500 tokens (index) of each str_typ\n",
    "tfidf_df.sort_values(by = colNames[4],ascending= False).index[:50]\n",
    "# grocery store has beer and wine in names? "
   ]
  },
  {
   "cell_type": "code",
   "execution_count": 22,
   "metadata": {
    "ExecuteTime": {
     "end_time": "2018-08-13T15:34:26.825735Z",
     "start_time": "2018-08-13T15:34:26.821307Z"
    }
   },
   "outputs": [
    {
     "data": {
      "text/plain": [
       "(25640, 7)"
      ]
     },
     "execution_count": 22,
     "metadata": {},
     "output_type": "execute_result"
    }
   ],
   "source": [
    "tfidf_df.shape"
   ]
  },
  {
   "cell_type": "code",
   "execution_count": 24,
   "metadata": {
    "ExecuteTime": {
     "end_time": "2018-08-13T15:34:35.056026Z",
     "start_time": "2018-08-13T15:34:35.031530Z"
    }
   },
   "outputs": [
    {
     "data": {
      "text/plain": [
       "18113    prapti,inc.\n",
       "dtype: object"
      ]
     },
     "execution_count": 24,
     "metadata": {},
     "output_type": "execute_result"
    }
   ],
   "source": [
    "a = pd.Series(tfidf_df.index.values)\n",
    "a[a.str.contains(\"prap\")]"
   ]
  },
  {
   "cell_type": "markdown",
   "metadata": {},
   "source": [
    "Problem: tfidf_df doesn't contain 'smokehous'. but rname_tokens has that token. Apparently the stemming function wasn't consistent? "
   ]
  },
  {
   "cell_type": "markdown",
   "metadata": {},
   "source": [
    "Weird. why is tfidf seperate by the comma, when it is not told to "
   ]
  },
  {
   "cell_type": "markdown",
   "metadata": {},
   "source": [
    "## use build analyzer to tokenize each store! "
   ]
  },
  {
   "cell_type": "code",
   "execution_count": 25,
   "metadata": {
    "ExecuteTime": {
     "end_time": "2018-08-13T15:34:38.756557Z",
     "start_time": "2018-08-13T15:34:38.752490Z"
    },
    "collapsed": true
   },
   "outputs": [],
   "source": [
    "tfidf_stem_each = StemmedTfidfVectorizer(min_df=1, stop_words=None, analyzer='word',\n",
    "                               ngram_range=(1,3), sublinear_tf= True, token_pattern= '(?u)\\S\\S+'\n",
    ")"
   ]
  },
  {
   "cell_type": "code",
   "execution_count": 26,
   "metadata": {
    "ExecuteTime": {
     "end_time": "2018-08-13T15:34:39.673189Z",
     "start_time": "2018-08-13T15:34:39.388485Z"
    }
   },
   "outputs": [
    {
     "data": {
      "text/plain": [
       "[['1st', 'avenu', 'exxon', '1st avenu', 'avenue exxon', '1st avenue exxon'],\n",
       " ['40th',\n",
       "  'street',\n",
       "  'groceri',\n",
       "  '40th street',\n",
       "  'street groceri',\n",
       "  '40th street groceri'],\n",
       " ['6th', 'ave', 'exxon', '6th ave', 'ave exxon', '6th ave exxon'],\n",
       " ['77th', 'food', 'mart', '77th food', 'food mart', '77th food mart'],\n",
       " ['78', 'food', 'mart', '78 food', 'food mart', '78 food mart'],\n",
       " ['airport', 'mini', 'mart', 'airport mini', 'mini mart', 'airport mini mart'],\n",
       " ['amoco', 'bp', 'amoco bp'],\n",
       " ['bankhead',\n",
       "  'food',\n",
       "  'mart',\n",
       "  'bankhead food',\n",
       "  'food mart',\n",
       "  'bankhead food mart'],\n",
       " ['bmm', 'foodmart', 'bmm foodmart']]"
      ]
     },
     "execution_count": 26,
     "metadata": {},
     "output_type": "execute_result"
    }
   ],
   "source": [
    "rname_tokens = list(map(lambda x: tfidf_stem_each.build_analyzer()(x), df.retail_name)) \n",
    "rname_tokens[1:10]"
   ]
  },
  {
   "cell_type": "markdown",
   "metadata": {},
   "source": [
    "### winn dixie probe for tfidf token"
   ]
  },
  {
   "cell_type": "code",
   "execution_count": 27,
   "metadata": {
    "ExecuteTime": {
     "end_time": "2018-08-13T15:34:42.266990Z",
     "start_time": "2018-08-13T15:34:42.246685Z"
    }
   },
   "outputs": [
    {
     "data": {
      "text/html": [
       "<div>\n",
       "<style>\n",
       "    .dataframe thead tr:only-child th {\n",
       "        text-align: right;\n",
       "    }\n",
       "\n",
       "    .dataframe thead th {\n",
       "        text-align: left;\n",
       "    }\n",
       "\n",
       "    .dataframe tbody tr th {\n",
       "        vertical-align: top;\n",
       "    }\n",
       "</style>\n",
       "<table border=\"1\" class=\"dataframe\">\n",
       "  <thead>\n",
       "    <tr style=\"text-align: right;\">\n",
       "      <th></th>\n",
       "      <th>Convenience store with or without gas</th>\n",
       "      <th>Drug store or pharmacy</th>\n",
       "      <th>Beer, wine, liquor store</th>\n",
       "      <th>Mass merchandiser</th>\n",
       "      <th>Grocery store</th>\n",
       "      <th>Other store type not listed</th>\n",
       "      <th>Tobacco Hookah ECig</th>\n",
       "    </tr>\n",
       "    <tr>\n",
       "      <th>token</th>\n",
       "      <th></th>\n",
       "      <th></th>\n",
       "      <th></th>\n",
       "      <th></th>\n",
       "      <th></th>\n",
       "      <th></th>\n",
       "      <th></th>\n",
       "    </tr>\n",
       "  </thead>\n",
       "  <tbody>\n",
       "    <tr>\n",
       "      <th>winn</th>\n",
       "      <td>0.003343</td>\n",
       "      <td>0.0</td>\n",
       "      <td>0.016446</td>\n",
       "      <td>0.029548</td>\n",
       "      <td>0.038066</td>\n",
       "      <td>0.000000</td>\n",
       "      <td>0.011496</td>\n",
       "    </tr>\n",
       "    <tr>\n",
       "      <th>dixi</th>\n",
       "      <td>0.009719</td>\n",
       "      <td>0.0</td>\n",
       "      <td>0.014477</td>\n",
       "      <td>0.026010</td>\n",
       "      <td>0.033657</td>\n",
       "      <td>0.006191</td>\n",
       "      <td>0.010120</td>\n",
       "    </tr>\n",
       "    <tr>\n",
       "      <th>winn dixi</th>\n",
       "      <td>0.003343</td>\n",
       "      <td>0.0</td>\n",
       "      <td>0.016446</td>\n",
       "      <td>0.029548</td>\n",
       "      <td>0.038066</td>\n",
       "      <td>0.000000</td>\n",
       "      <td>0.011496</td>\n",
       "    </tr>\n",
       "  </tbody>\n",
       "</table>\n",
       "</div>"
      ],
      "text/plain": [
       "           Convenience store with or without gas  Drug store or pharmacy   \\\n",
       "token                                                                       \n",
       "winn                                    0.003343                      0.0   \n",
       "dixi                                    0.009719                      0.0   \n",
       "winn dixi                               0.003343                      0.0   \n",
       "\n",
       "           Beer, wine, liquor store  Mass merchandiser  Grocery store   \\\n",
       "token                                                                    \n",
       "winn                       0.016446           0.029548        0.038066   \n",
       "dixi                       0.014477           0.026010        0.033657   \n",
       "winn dixi                  0.016446           0.029548        0.038066   \n",
       "\n",
       "           Other store type not listed  Tobacco Hookah ECig  \n",
       "token                                                        \n",
       "winn                          0.000000             0.011496  \n",
       "dixi                          0.006191             0.010120  \n",
       "winn dixi                     0.000000             0.011496  "
      ]
     },
     "execution_count": 27,
     "metadata": {},
     "output_type": "execute_result"
    }
   ],
   "source": [
    "winn_dixie_tfidf = tfidf_df.loc[['winn','dixi', 'winn dixi']]\n",
    "tfidf_df.loc[['winn','dixi', 'winn dixi']]"
   ]
  },
  {
   "cell_type": "code",
   "execution_count": 28,
   "metadata": {
    "ExecuteTime": {
     "end_time": "2018-08-13T15:34:43.228400Z",
     "start_time": "2018-08-13T15:34:43.214696Z"
    }
   },
   "outputs": [
    {
     "data": {
      "text/html": [
       "<div>\n",
       "<style>\n",
       "    .dataframe thead tr:only-child th {\n",
       "        text-align: right;\n",
       "    }\n",
       "\n",
       "    .dataframe thead th {\n",
       "        text-align: left;\n",
       "    }\n",
       "\n",
       "    .dataframe tbody tr th {\n",
       "        vertical-align: top;\n",
       "    }\n",
       "</style>\n",
       "<table border=\"1\" class=\"dataframe\">\n",
       "  <thead>\n",
       "    <tr style=\"text-align: right;\">\n",
       "      <th></th>\n",
       "      <th>Convenience store with or without gas</th>\n",
       "      <th>Drug store or pharmacy</th>\n",
       "      <th>Beer, wine, liquor store</th>\n",
       "      <th>Mass merchandiser</th>\n",
       "      <th>Grocery store</th>\n",
       "      <th>Other store type not listed</th>\n",
       "      <th>Tobacco Hookah ECig</th>\n",
       "    </tr>\n",
       "    <tr>\n",
       "      <th>token</th>\n",
       "      <th></th>\n",
       "      <th></th>\n",
       "      <th></th>\n",
       "      <th></th>\n",
       "      <th></th>\n",
       "      <th></th>\n",
       "      <th></th>\n",
       "    </tr>\n",
       "  </thead>\n",
       "  <tbody>\n",
       "    <tr>\n",
       "      <th>harri</th>\n",
       "      <td>0.006462</td>\n",
       "      <td>0.0</td>\n",
       "      <td>0.015147</td>\n",
       "      <td>0.0</td>\n",
       "      <td>0.020926</td>\n",
       "      <td>0.008029</td>\n",
       "      <td>0.0</td>\n",
       "    </tr>\n",
       "    <tr>\n",
       "      <th>teeter</th>\n",
       "      <td>0.000000</td>\n",
       "      <td>0.0</td>\n",
       "      <td>0.000000</td>\n",
       "      <td>0.0</td>\n",
       "      <td>0.031065</td>\n",
       "      <td>0.000000</td>\n",
       "      <td>0.0</td>\n",
       "    </tr>\n",
       "    <tr>\n",
       "      <th>harris teet</th>\n",
       "      <td>0.000000</td>\n",
       "      <td>0.0</td>\n",
       "      <td>0.000000</td>\n",
       "      <td>0.0</td>\n",
       "      <td>0.031065</td>\n",
       "      <td>0.000000</td>\n",
       "      <td>0.0</td>\n",
       "    </tr>\n",
       "  </tbody>\n",
       "</table>\n",
       "</div>"
      ],
      "text/plain": [
       "             Convenience store with or without gas  Drug store or pharmacy   \\\n",
       "token                                                                         \n",
       "harri                                     0.006462                      0.0   \n",
       "teeter                                    0.000000                      0.0   \n",
       "harris teet                               0.000000                      0.0   \n",
       "\n",
       "             Beer, wine, liquor store  Mass merchandiser  Grocery store   \\\n",
       "token                                                                      \n",
       "harri                        0.015147                0.0        0.020926   \n",
       "teeter                       0.000000                0.0        0.031065   \n",
       "harris teet                  0.000000                0.0        0.031065   \n",
       "\n",
       "             Other store type not listed  Tobacco Hookah ECig  \n",
       "token                                                          \n",
       "harri                           0.008029                  0.0  \n",
       "teeter                          0.000000                  0.0  \n",
       "harris teet                     0.000000                  0.0  "
      ]
     },
     "execution_count": 28,
     "metadata": {},
     "output_type": "execute_result"
    }
   ],
   "source": [
    "tfidf_df.loc[['harri','teeter', 'harris teet']]"
   ]
  },
  {
   "cell_type": "code",
   "execution_count": 29,
   "metadata": {
    "ExecuteTime": {
     "end_time": "2018-08-13T15:34:49.847253Z",
     "start_time": "2018-08-13T15:34:49.799513Z"
    },
    "collapsed": true
   },
   "outputs": [],
   "source": [
    "winn_df = tfidf_df.loc[tfidf_df.index.str.contains(r'winn')]\n",
    "dixie_df = tfidf_df.loc[tfidf_df.index.str.contains(r'dixi')]\n",
    "winn_df.append(dixie_df).to_csv('winn_dixie_tfidf.csv')\n"
   ]
  },
  {
   "cell_type": "markdown",
   "metadata": {},
   "source": [
    "### avg up tfidf scores for all tokens of all 16544 store_names, for each str_typ as column\n",
    " for example:\n",
    "'rite aid' for str_typ = Grocery \n",
    "rite = .5, aid = .6,  GroceryScore = mean(.5+.6) = .55\n"
   ]
  },
  {
   "cell_type": "code",
   "execution_count": 30,
   "metadata": {
    "ExecuteTime": {
     "end_time": "2018-08-13T15:35:17.170298Z",
     "start_time": "2018-08-13T15:35:07.911246Z"
    },
    "collapsed": true
   },
   "outputs": [],
   "source": [
    "df_score_mean = pd.DataFrame(list(map(lambda x: tfidf_df.loc[x,:].mean(0), rname_tokens)))\n",
    "#df_score_mean.rename(columns= lambda x: 'mean:'+ x, inplace = True)"
   ]
  },
  {
   "cell_type": "markdown",
   "metadata": {},
   "source": [
    "df_score_max = pd.DataFrame(list(map(lambda x: tfidf_df.loc[x,:].max(0), rname_tokens)))\n",
    "df_score_max.rename(columns= lambda x: 'max:'+ x, inplace = True)"
   ]
  },
  {
   "cell_type": "markdown",
   "metadata": {},
   "source": [
    "df_score_median = pd.DataFrame(list(map(lambda x: tfidf_df.loc[x,:].median(0), rname_tokens)))\n",
    "df_score_median.rename(columns= lambda x: 'median:'+ x, inplace = True)"
   ]
  },
  {
   "cell_type": "code",
   "execution_count": 89,
   "metadata": {
    "ExecuteTime": {
     "end_time": "2018-07-21T00:14:36.160770Z",
     "start_time": "2018-07-21T00:14:36.157840Z"
    },
    "collapsed": true
   },
   "outputs": [],
   "source": [
    "#df_score = df_score_mean.join(df_score_max).join(df_score_median)"
   ]
  },
  {
   "cell_type": "markdown",
   "metadata": {},
   "source": [
    "### sanity check for if mismatch happens, already fixed"
   ]
  },
  {
   "cell_type": "markdown",
   "metadata": {},
   "source": [
    "build a key-value dict to see where mismatch starts"
   ]
  },
  {
   "cell_type": "markdown",
   "metadata": {},
   "source": [
    "for ct, value in enumerate(d10.items()):\n",
    "    if (ct>=860) and (ct<870) :\n",
    "        print(value)"
   ]
  },
  {
   "cell_type": "code",
   "execution_count": 31,
   "metadata": {
    "ExecuteTime": {
     "end_time": "2018-08-13T15:35:18.373530Z",
     "start_time": "2018-08-13T15:35:18.363796Z"
    },
    "collapsed": true
   },
   "outputs": [],
   "source": [
    "df_join = df.join(df_score_mean)"
   ]
  },
  {
   "cell_type": "markdown",
   "metadata": {},
   "source": [
    "##Sanity Check"
   ]
  },
  {
   "cell_type": "code",
   "execution_count": 32,
   "metadata": {
    "ExecuteTime": {
     "end_time": "2018-08-13T15:35:19.674372Z",
     "start_time": "2018-08-13T15:35:19.669348Z"
    }
   },
   "outputs": [
    {
     "data": {
      "text/plain": [
       "'Beer, wine, liquor store'"
      ]
     },
     "execution_count": 32,
     "metadata": {},
     "output_type": "execute_result"
    }
   ],
   "source": [
    "\n",
    "colNames[2]"
   ]
  },
  {
   "cell_type": "code",
   "execution_count": 33,
   "metadata": {
    "ExecuteTime": {
     "end_time": "2018-08-13T15:35:22.320706Z",
     "start_time": "2018-08-13T15:35:22.285579Z"
    }
   },
   "outputs": [
    {
     "data": {
      "text/html": [
       "<div>\n",
       "<style>\n",
       "    .dataframe thead tr:only-child th {\n",
       "        text-align: right;\n",
       "    }\n",
       "\n",
       "    .dataframe thead th {\n",
       "        text-align: left;\n",
       "    }\n",
       "\n",
       "    .dataframe tbody tr th {\n",
       "        vertical-align: top;\n",
       "    }\n",
       "</style>\n",
       "<table border=\"1\" class=\"dataframe\">\n",
       "  <thead>\n",
       "    <tr style=\"text-align: right;\">\n",
       "      <th></th>\n",
       "      <th>retail_name</th>\n",
       "      <th>retail_state</th>\n",
       "      <th>snap</th>\n",
       "      <th>wic</th>\n",
       "      <th>alcohol</th>\n",
       "      <th>pharmacy</th>\n",
       "      <th>any_tob_sld</th>\n",
       "      <th>str_typ</th>\n",
       "      <th>year</th>\n",
       "      <th>can_surveyD</th>\n",
       "      <th>...</th>\n",
       "      <th>c_any_tob_sld</th>\n",
       "      <th>retail_st_geo</th>\n",
       "      <th>str_typ1</th>\n",
       "      <th>Convenience store with or without gas</th>\n",
       "      <th>Drug store or pharmacy</th>\n",
       "      <th>Beer, wine, liquor store</th>\n",
       "      <th>Mass merchandiser</th>\n",
       "      <th>Grocery store</th>\n",
       "      <th>Other store type not listed</th>\n",
       "      <th>Tobacco Hookah ECig</th>\n",
       "    </tr>\n",
       "  </thead>\n",
       "  <tbody>\n",
       "    <tr>\n",
       "      <th>15422</th>\n",
       "      <td>avail vapor</td>\n",
       "      <td>VA</td>\n",
       "      <td>0.0</td>\n",
       "      <td>0.0</td>\n",
       "      <td>0.0</td>\n",
       "      <td>0.0</td>\n",
       "      <td>1.0</td>\n",
       "      <td>Tobacco Hookah ECig</td>\n",
       "      <td>2016.0</td>\n",
       "      <td>1.0</td>\n",
       "      <td>...</td>\n",
       "      <td>1.0</td>\n",
       "      <td>Virginia</td>\n",
       "      <td>Tobacco</td>\n",
       "      <td>0.000000</td>\n",
       "      <td>0.0</td>\n",
       "      <td>0.0</td>\n",
       "      <td>0.0</td>\n",
       "      <td>0.000000</td>\n",
       "      <td>0.000000</td>\n",
       "      <td>0.068184</td>\n",
       "    </tr>\n",
       "    <tr>\n",
       "      <th>15423</th>\n",
       "      <td>avail vapor</td>\n",
       "      <td>VA</td>\n",
       "      <td>0.0</td>\n",
       "      <td>0.0</td>\n",
       "      <td>0.0</td>\n",
       "      <td>0.0</td>\n",
       "      <td>1.0</td>\n",
       "      <td>Tobacco Hookah ECig</td>\n",
       "      <td>2016.0</td>\n",
       "      <td>1.0</td>\n",
       "      <td>...</td>\n",
       "      <td>1.0</td>\n",
       "      <td>Virginia</td>\n",
       "      <td>Tobacco</td>\n",
       "      <td>0.000000</td>\n",
       "      <td>0.0</td>\n",
       "      <td>0.0</td>\n",
       "      <td>0.0</td>\n",
       "      <td>0.000000</td>\n",
       "      <td>0.000000</td>\n",
       "      <td>0.068184</td>\n",
       "    </tr>\n",
       "    <tr>\n",
       "      <th>15756</th>\n",
       "      <td>avail vapor</td>\n",
       "      <td>VA</td>\n",
       "      <td>0.0</td>\n",
       "      <td>0.0</td>\n",
       "      <td>0.0</td>\n",
       "      <td>0.0</td>\n",
       "      <td>1.0</td>\n",
       "      <td>Tobacco Hookah ECig</td>\n",
       "      <td>2016.0</td>\n",
       "      <td>1.0</td>\n",
       "      <td>...</td>\n",
       "      <td>1.0</td>\n",
       "      <td>Virginia</td>\n",
       "      <td>Tobacco</td>\n",
       "      <td>0.000000</td>\n",
       "      <td>0.0</td>\n",
       "      <td>0.0</td>\n",
       "      <td>0.0</td>\n",
       "      <td>0.000000</td>\n",
       "      <td>0.000000</td>\n",
       "      <td>0.068184</td>\n",
       "    </tr>\n",
       "    <tr>\n",
       "      <th>5650</th>\n",
       "      <td>low bob's</td>\n",
       "      <td>IN</td>\n",
       "      <td>0.0</td>\n",
       "      <td>0.0</td>\n",
       "      <td>0.0</td>\n",
       "      <td>0.0</td>\n",
       "      <td>1.0</td>\n",
       "      <td>Tobacco Hookah ECig</td>\n",
       "      <td>2016.0</td>\n",
       "      <td>1.0</td>\n",
       "      <td>...</td>\n",
       "      <td>1.0</td>\n",
       "      <td>Indiana</td>\n",
       "      <td>Tobacco</td>\n",
       "      <td>0.008227</td>\n",
       "      <td>0.0</td>\n",
       "      <td>0.0</td>\n",
       "      <td>0.0</td>\n",
       "      <td>0.004526</td>\n",
       "      <td>0.005616</td>\n",
       "      <td>0.067243</td>\n",
       "    </tr>\n",
       "    <tr>\n",
       "      <th>5809</th>\n",
       "      <td>low bob</td>\n",
       "      <td>IN</td>\n",
       "      <td>0.0</td>\n",
       "      <td>0.0</td>\n",
       "      <td>0.0</td>\n",
       "      <td>0.0</td>\n",
       "      <td>1.0</td>\n",
       "      <td>Tobacco Hookah ECig</td>\n",
       "      <td>2016.0</td>\n",
       "      <td>1.0</td>\n",
       "      <td>...</td>\n",
       "      <td>1.0</td>\n",
       "      <td>Indiana</td>\n",
       "      <td>Tobacco</td>\n",
       "      <td>0.008227</td>\n",
       "      <td>0.0</td>\n",
       "      <td>0.0</td>\n",
       "      <td>0.0</td>\n",
       "      <td>0.004526</td>\n",
       "      <td>0.005616</td>\n",
       "      <td>0.067243</td>\n",
       "    </tr>\n",
       "  </tbody>\n",
       "</table>\n",
       "<p>5 rows × 22 columns</p>\n",
       "</div>"
      ],
      "text/plain": [
       "       retail_name retail_state  snap  wic  alcohol  pharmacy  any_tob_sld  \\\n",
       "15422  avail vapor           VA   0.0  0.0      0.0       0.0          1.0   \n",
       "15423  avail vapor           VA   0.0  0.0      0.0       0.0          1.0   \n",
       "15756  avail vapor           VA   0.0  0.0      0.0       0.0          1.0   \n",
       "5650    low bob's            IN   0.0  0.0      0.0       0.0          1.0   \n",
       "5809       low bob           IN   0.0  0.0      0.0       0.0          1.0   \n",
       "\n",
       "                   str_typ    year  can_surveyD         ...           \\\n",
       "15422  Tobacco Hookah ECig  2016.0          1.0         ...            \n",
       "15423  Tobacco Hookah ECig  2016.0          1.0         ...            \n",
       "15756  Tobacco Hookah ECig  2016.0          1.0         ...            \n",
       "5650   Tobacco Hookah ECig  2016.0          1.0         ...            \n",
       "5809   Tobacco Hookah ECig  2016.0          1.0         ...            \n",
       "\n",
       "       c_any_tob_sld  retail_st_geo  str_typ1  \\\n",
       "15422            1.0       Virginia   Tobacco   \n",
       "15423            1.0       Virginia   Tobacco   \n",
       "15756            1.0       Virginia   Tobacco   \n",
       "5650             1.0        Indiana   Tobacco   \n",
       "5809             1.0        Indiana   Tobacco   \n",
       "\n",
       "      Convenience store with or without gas Drug store or pharmacy   \\\n",
       "15422                              0.000000                     0.0   \n",
       "15423                              0.000000                     0.0   \n",
       "15756                              0.000000                     0.0   \n",
       "5650                               0.008227                     0.0   \n",
       "5809                               0.008227                     0.0   \n",
       "\n",
       "       Beer, wine, liquor store  Mass merchandiser  Grocery store   \\\n",
       "15422                       0.0                0.0        0.000000   \n",
       "15423                       0.0                0.0        0.000000   \n",
       "15756                       0.0                0.0        0.000000   \n",
       "5650                        0.0                0.0        0.004526   \n",
       "5809                        0.0                0.0        0.004526   \n",
       "\n",
       "       Other store type not listed  Tobacco Hookah ECig  \n",
       "15422                     0.000000             0.068184  \n",
       "15423                     0.000000             0.068184  \n",
       "15756                     0.000000             0.068184  \n",
       "5650                      0.005616             0.067243  \n",
       "5809                      0.005616             0.067243  \n",
       "\n",
       "[5 rows x 22 columns]"
      ]
     },
     "execution_count": 33,
     "metadata": {},
     "output_type": "execute_result"
    }
   ],
   "source": [
    "# now looks right\n",
    "df_join.sort_values(by =  colNames[-1],ascending= False)[:5]"
   ]
  },
  {
   "cell_type": "code",
   "execution_count": 34,
   "metadata": {
    "ExecuteTime": {
     "end_time": "2018-08-13T15:35:44.362359Z",
     "start_time": "2018-08-13T15:35:44.057955Z"
    },
    "collapsed": true
   },
   "outputs": [],
   "source": [
    "df_join.to_csv(\"df_score_predict_no_cat.csv\")"
   ]
  },
  {
   "cell_type": "markdown",
   "metadata": {},
   "source": [
    "# Use sklearn to build pipeline for classification"
   ]
  },
  {
   "cell_type": "markdown",
   "metadata": {},
   "source": [
    "multiclass https://github.com/knathanieltucker/bit-of-data-science-and-scikit-learn/blob/master/notebooks/Multiclass.ipynb"
   ]
  },
  {
   "cell_type": "markdown",
   "metadata": {},
   "source": [
    "try only NC"
   ]
  },
  {
   "cell_type": "code",
   "execution_count": 94,
   "metadata": {
    "ExecuteTime": {
     "end_time": "2018-07-21T00:14:36.587233Z",
     "start_time": "2018-07-21T00:14:36.579760Z"
    }
   },
   "outputs": [
    {
     "data": {
      "text/plain": [
       "1.0    0.877841\n",
       "0.0    0.038322\n",
       "Name: c_any_tob_sld, dtype: float64"
      ]
     },
     "execution_count": 94,
     "metadata": {},
     "output_type": "execute_result"
    }
   ],
   "source": [
    "df.c_any_tob_sld.value_counts()/df.shape[0] # can't predict anytobacco sold cuz it's 4% not tobacco sold, too small"
   ]
  },
  {
   "cell_type": "markdown",
   "metadata": {},
   "source": [
    "Make X, y"
   ]
  },
  {
   "cell_type": "code",
   "execution_count": 95,
   "metadata": {
    "ExecuteTime": {
     "end_time": "2018-07-21T00:14:36.607485Z",
     "start_time": "2018-07-21T00:14:36.589574Z"
    },
    "collapsed": true
   },
   "outputs": [],
   "source": [
    "Xy = df_join.loc[:,'Convenience store with or without gas':]\n",
    "Xy = df_join.loc[:,['str_typ','c_any_tob_sld']].join(Xy)\n",
    "Xy.dropna(axis = 0, how = 'any', inplace = True)\n",
    "X = Xy.loc[:,'Convenience store with or without gas':]\n",
    "y = Xy.str_typ\n",
    "#y = Xy.c_any_tob_sld"
   ]
  },
  {
   "cell_type": "code",
   "execution_count": 96,
   "metadata": {
    "ExecuteTime": {
     "end_time": "2018-07-21T00:14:36.614945Z",
     "start_time": "2018-07-21T00:14:36.610104Z"
    }
   },
   "outputs": [
    {
     "data": {
      "text/plain": [
       "Index(['Convenience store with or without gas', 'Drug store or pharmacy ',\n",
       "       'Beer, wine, liquor store', 'Mass merchandiser', 'Grocery store ',\n",
       "       'Other store type not listed', 'Tobacco Hookah ECig', 'No Tobacco'],\n",
       "      dtype='object')"
      ]
     },
     "execution_count": 96,
     "metadata": {},
     "output_type": "execute_result"
    }
   ],
   "source": [
    "X.columns"
   ]
  },
  {
   "cell_type": "markdown",
   "metadata": {},
   "source": [
    "need do deal with Null score later"
   ]
  },
  {
   "cell_type": "markdown",
   "metadata": {},
   "source": [
    "Train test split, test_size = .5 actually performed much better than .3"
   ]
  },
  {
   "cell_type": "code",
   "execution_count": 97,
   "metadata": {
    "ExecuteTime": {
     "end_time": "2018-07-21T00:14:36.627359Z",
     "start_time": "2018-07-21T00:14:36.617770Z"
    },
    "collapsed": true
   },
   "outputs": [],
   "source": [
    "X_train, X_test, y_train, y_test = train_test_split(X, y, test_size = .5, random_state = 2)"
   ]
  },
  {
   "cell_type": "markdown",
   "metadata": {},
   "source": [
    "### build pipeline for many models at once"
   ]
  },
  {
   "cell_type": "code",
   "execution_count": 98,
   "metadata": {
    "ExecuteTime": {
     "end_time": "2018-07-21T00:14:36.638244Z",
     "start_time": "2018-07-21T00:14:36.629858Z"
    },
    "collapsed": true
   },
   "outputs": [],
   "source": [
    "# Pipeline dictionary\n",
    "pipelines = {\"l1\": make_pipeline(StandardScaler(), LogisticRegression(penalty=\"l1\",random_state=123)),\n",
    "            \"l2\": make_pipeline(StandardScaler(), LogisticRegression(penalty=\"l2\",random_state=123)),\n",
    "            \"rf\" : make_pipeline(StandardScaler(), RandomForestClassifier(random_state=123)),\n",
    "            \"gb\" :make_pipeline(StandardScaler(), GradientBoostingClassifier(random_state=123)),\n",
    "             'oneVone': make_pipeline(StandardScaler(), OneVsOneClassifier(RandomForestClassifier(random_state=123))),\n",
    "            'dt' : make_pipeline(DecisionTreeClassifier(random_state=123))\n",
    "                                 }"
   ]
  },
  {
   "cell_type": "code",
   "execution_count": 99,
   "metadata": {
    "ExecuteTime": {
     "end_time": "2018-07-21T00:14:36.645577Z",
     "start_time": "2018-07-21T00:14:36.641190Z"
    },
    "collapsed": true
   },
   "outputs": [],
   "source": [
    "#pipelines['dt'].get_params()"
   ]
  },
  {
   "cell_type": "code",
   "execution_count": 100,
   "metadata": {
    "ExecuteTime": {
     "end_time": "2018-07-21T00:14:36.661450Z",
     "start_time": "2018-07-21T00:14:36.648621Z"
    },
    "collapsed": true
   },
   "outputs": [],
   "source": [
    "# Logistic Regression hyperparameters\n",
    "l1_HP = {\"logisticregression__C\": np.linspace(1e-3,1e3, 10)}\n",
    "l2_HP = {\"logisticregression__C\" : np.linspace(1e-3,1e3, 10)}\n",
    "rf_HP = {\"randomforestclassifier__n_estimators\" : [100,200],\n",
    "        \"randomforestclassifier__max_features\" : [\"auto\", \"sqrt\", .33]}\n",
    "# Boosted Tree hyperparameters\n",
    "gb_HP = {\"gradientboostingclassifier__learning_rate\": [.05,.1,.2],\n",
    "        \"gradientboostingclassifier__n_estimators\": [100,200],\n",
    "        \"gradientboostingclassifier__max_depth\":[1,3,5]}\n",
    "oneVone_HP = {'onevsoneclassifier__estimator__n_estimators': [10,5]}\n",
    "dt_HP = { 'decisiontreeclassifier__max_depth': [None, 3,5]}"
   ]
  },
  {
   "cell_type": "code",
   "execution_count": 101,
   "metadata": {
    "ExecuteTime": {
     "end_time": "2018-07-21T00:14:36.669373Z",
     "start_time": "2018-07-21T00:14:36.664225Z"
    },
    "collapsed": true
   },
   "outputs": [],
   "source": [
    "# Create hyperparameters dictionary\n",
    "HP = {\n",
    "    \"gb\" :gb_HP,\n",
    "    \"rf\":rf_HP,\n",
    "    \"l1\":l1_HP,\n",
    "    \"l2\":l2_HP,\n",
    "    'oneVone': oneVone_HP,\n",
    "    'dt' : dt_HP\n",
    "}"
   ]
  },
  {
   "cell_type": "code",
   "execution_count": 104,
   "metadata": {
    "ExecuteTime": {
     "end_time": "2018-07-21T00:24:03.005491Z",
     "start_time": "2018-07-21T00:24:02.997242Z"
    }
   },
   "outputs": [
    {
     "name": "stdout",
     "output_type": "stream",
     "text": [
      "good\n",
      "good\n",
      "good\n",
      "good\n",
      "good\n",
      "good\n"
     ]
    }
   ],
   "source": [
    "# check\n",
    "for key in HP.keys():\n",
    "    if key in pipelines.keys():\n",
    "         print(\"good\")\n",
    "    else:\n",
    "        print(\"not good\")"
   ]
  },
  {
   "cell_type": "markdown",
   "metadata": {},
   "source": [
    "# Create empty dictionary called fitted_models\n",
    "fitted_models = {}\n",
    "    # Loop through model pipelines, tuning each one and saving it to fitted_models\n",
    "for name, pipeline in pipelines.items():\n",
    "    # Create cross-validation object from pipeline and hyperparameters\n",
    "    model = GridSearchCV(pipeline, HP[name], cv = 5, n_jobs=-1)\n",
    "    \n",
    "    # Fit model on X_train, y_train\n",
    "    model.fit(X_train, y_train)\n",
    "    \n",
    "    # Store model in fitted_models[name] \n",
    "    fitted_models[name] = model\n",
    "    \n",
    "    # Print '{name} has been fitted'\n",
    "    print(name, ' has been fitted')"
   ]
  },
  {
   "cell_type": "code",
   "execution_count": 108,
   "metadata": {
    "ExecuteTime": {
     "end_time": "2018-07-21T00:40:49.410649Z",
     "start_time": "2018-07-21T00:25:42.676565Z"
    }
   },
   "outputs": [
    {
     "name": "stderr",
     "output_type": "stream",
     "text": [
      "Process ForkPoolWorker-78:\n",
      "Process ForkPoolWorker-79:\n",
      "Process ForkPoolWorker-77:\n",
      "Process ForkPoolWorker-75:\n",
      "Process ForkPoolWorker-76:\n",
      "Process ForkPoolWorker-74:\n",
      "Process ForkPoolWorker-73:\n",
      "Process ForkPoolWorker-80:\n",
      "Traceback (most recent call last):\n",
      "Traceback (most recent call last):\n",
      "Traceback (most recent call last):\n",
      "Traceback (most recent call last):\n",
      "Traceback (most recent call last):\n",
      "Traceback (most recent call last):\n",
      "Traceback (most recent call last):\n",
      "Traceback (most recent call last):\n",
      "  File \"/Users/JamesWang1/anaconda3/lib/python3.6/multiprocessing/process.py\", line 258, in _bootstrap\n",
      "    self.run()\n",
      "  File \"/Users/JamesWang1/anaconda3/lib/python3.6/multiprocessing/process.py\", line 258, in _bootstrap\n",
      "    self.run()\n",
      "  File \"/Users/JamesWang1/anaconda3/lib/python3.6/multiprocessing/process.py\", line 258, in _bootstrap\n",
      "    self.run()\n",
      "  File \"/Users/JamesWang1/anaconda3/lib/python3.6/multiprocessing/process.py\", line 258, in _bootstrap\n",
      "    self.run()\n",
      "  File \"/Users/JamesWang1/anaconda3/lib/python3.6/multiprocessing/process.py\", line 258, in _bootstrap\n",
      "    self.run()\n",
      "  File \"/Users/JamesWang1/anaconda3/lib/python3.6/multiprocessing/process.py\", line 258, in _bootstrap\n",
      "    self.run()\n",
      "  File \"/Users/JamesWang1/anaconda3/lib/python3.6/multiprocessing/process.py\", line 258, in _bootstrap\n",
      "    self.run()\n",
      "  File \"/Users/JamesWang1/anaconda3/lib/python3.6/multiprocessing/process.py\", line 258, in _bootstrap\n",
      "    self.run()\n",
      "  File \"/Users/JamesWang1/anaconda3/lib/python3.6/multiprocessing/process.py\", line 93, in run\n",
      "    self._target(*self._args, **self._kwargs)\n",
      "  File \"/Users/JamesWang1/anaconda3/lib/python3.6/multiprocessing/process.py\", line 93, in run\n",
      "    self._target(*self._args, **self._kwargs)\n",
      "  File \"/Users/JamesWang1/anaconda3/lib/python3.6/multiprocessing/process.py\", line 93, in run\n",
      "    self._target(*self._args, **self._kwargs)\n",
      "  File \"/Users/JamesWang1/anaconda3/lib/python3.6/multiprocessing/process.py\", line 93, in run\n",
      "    self._target(*self._args, **self._kwargs)\n",
      "  File \"/Users/JamesWang1/anaconda3/lib/python3.6/multiprocessing/process.py\", line 93, in run\n",
      "    self._target(*self._args, **self._kwargs)\n",
      "  File \"/Users/JamesWang1/anaconda3/lib/python3.6/multiprocessing/process.py\", line 93, in run\n",
      "    self._target(*self._args, **self._kwargs)\n",
      "  File \"/Users/JamesWang1/anaconda3/lib/python3.6/multiprocessing/process.py\", line 93, in run\n",
      "    self._target(*self._args, **self._kwargs)\n",
      "  File \"/Users/JamesWang1/anaconda3/lib/python3.6/multiprocessing/process.py\", line 93, in run\n",
      "    self._target(*self._args, **self._kwargs)\n",
      "  File \"/Users/JamesWang1/anaconda3/lib/python3.6/multiprocessing/pool.py\", line 108, in worker\n",
      "    task = get()\n",
      "  File \"/Users/JamesWang1/anaconda3/lib/python3.6/multiprocessing/pool.py\", line 108, in worker\n",
      "    task = get()\n",
      "  File \"/Users/JamesWang1/anaconda3/lib/python3.6/multiprocessing/pool.py\", line 108, in worker\n",
      "    task = get()\n",
      "  File \"/Users/JamesWang1/anaconda3/lib/python3.6/multiprocessing/pool.py\", line 108, in worker\n",
      "    task = get()\n",
      "  File \"/Users/JamesWang1/anaconda3/lib/python3.6/multiprocessing/pool.py\", line 108, in worker\n",
      "    task = get()\n",
      "  File \"/Users/JamesWang1/anaconda3/lib/python3.6/multiprocessing/pool.py\", line 108, in worker\n",
      "    task = get()\n",
      "  File \"/Users/JamesWang1/anaconda3/lib/python3.6/multiprocessing/pool.py\", line 108, in worker\n",
      "    task = get()\n",
      "  File \"/Users/JamesWang1/anaconda3/lib/python3.6/site-packages/sklearn/externals/joblib/pool.py\", line 360, in get\n",
      "    racquire()\n",
      "  File \"/Users/JamesWang1/anaconda3/lib/python3.6/site-packages/sklearn/externals/joblib/pool.py\", line 360, in get\n",
      "    racquire()\n",
      "  File \"/Users/JamesWang1/anaconda3/lib/python3.6/multiprocessing/pool.py\", line 108, in worker\n",
      "    task = get()\n",
      "  File \"/Users/JamesWang1/anaconda3/lib/python3.6/site-packages/sklearn/externals/joblib/pool.py\", line 360, in get\n",
      "    racquire()\n",
      "  File \"/Users/JamesWang1/anaconda3/lib/python3.6/site-packages/sklearn/externals/joblib/pool.py\", line 360, in get\n",
      "    racquire()\n",
      "KeyboardInterrupt\n",
      "  File \"/Users/JamesWang1/anaconda3/lib/python3.6/site-packages/sklearn/externals/joblib/pool.py\", line 362, in get\n",
      "    return recv()\n",
      "  File \"/Users/JamesWang1/anaconda3/lib/python3.6/site-packages/sklearn/externals/joblib/pool.py\", line 360, in get\n",
      "    racquire()\n",
      "  File \"/Users/JamesWang1/anaconda3/lib/python3.6/site-packages/sklearn/externals/joblib/pool.py\", line 360, in get\n",
      "    racquire()\n",
      "KeyboardInterrupt\n",
      "  File \"/Users/JamesWang1/anaconda3/lib/python3.6/site-packages/sklearn/externals/joblib/pool.py\", line 360, in get\n",
      "    racquire()\n",
      "KeyboardInterrupt\n",
      "KeyboardInterrupt\n",
      "KeyboardInterrupt\n",
      "KeyboardInterrupt\n",
      "  File \"/Users/JamesWang1/anaconda3/lib/python3.6/multiprocessing/connection.py\", line 250, in recv\n",
      "    buf = self._recv_bytes()\n",
      "KeyboardInterrupt\n",
      "  File \"/Users/JamesWang1/anaconda3/lib/python3.6/multiprocessing/connection.py\", line 407, in _recv_bytes\n",
      "    buf = self._recv(4)\n",
      "  File \"/Users/JamesWang1/anaconda3/lib/python3.6/multiprocessing/connection.py\", line 379, in _recv\n",
      "    chunk = read(handle, remaining)\n",
      "KeyboardInterrupt\n"
     ]
    },
    {
     "ename": "KeyboardInterrupt",
     "evalue": "",
     "output_type": "error",
     "traceback": [
      "\u001b[0;31m---------------------------------------------------------------------------\u001b[0m",
      "\u001b[0;31mKeyboardInterrupt\u001b[0m                         Traceback (most recent call last)",
      "\u001b[0;32m<ipython-input-108-d2ad300f9f90>\u001b[0m in \u001b[0;36m<module>\u001b[0;34m()\u001b[0m\n\u001b[1;32m      8\u001b[0m \u001b[0;34m\u001b[0m\u001b[0m\n\u001b[1;32m      9\u001b[0m         \u001b[0;31m# Fit model on X_train, y_train\u001b[0m\u001b[0;34m\u001b[0m\u001b[0;34m\u001b[0m\u001b[0m\n\u001b[0;32m---> 10\u001b[0;31m         \u001b[0mmodel\u001b[0m\u001b[0;34m.\u001b[0m\u001b[0mfit\u001b[0m\u001b[0;34m(\u001b[0m\u001b[0mX_train\u001b[0m\u001b[0;34m,\u001b[0m \u001b[0my_train\u001b[0m\u001b[0;34m)\u001b[0m\u001b[0;34m\u001b[0m\u001b[0m\n\u001b[0m\u001b[1;32m     11\u001b[0m \u001b[0;34m\u001b[0m\u001b[0m\n\u001b[1;32m     12\u001b[0m         \u001b[0;31m# Store model in fitted_models[name]\u001b[0m\u001b[0;34m\u001b[0m\u001b[0;34m\u001b[0m\u001b[0m\n",
      "\u001b[0;32m~/anaconda3/lib/python3.6/site-packages/sklearn/model_selection/_search.py\u001b[0m in \u001b[0;36mfit\u001b[0;34m(self, X, y, groups, **fit_params)\u001b[0m\n\u001b[1;32m    637\u001b[0m                                   error_score=self.error_score)\n\u001b[1;32m    638\u001b[0m           for parameters, (train, test) in product(candidate_params,\n\u001b[0;32m--> 639\u001b[0;31m                                                    cv.split(X, y, groups)))\n\u001b[0m\u001b[1;32m    640\u001b[0m \u001b[0;34m\u001b[0m\u001b[0m\n\u001b[1;32m    641\u001b[0m         \u001b[0;31m# if one choose to see train score, \"out\" will contain train score info\u001b[0m\u001b[0;34m\u001b[0m\u001b[0;34m\u001b[0m\u001b[0m\n",
      "\u001b[0;32m~/anaconda3/lib/python3.6/site-packages/sklearn/externals/joblib/parallel.py\u001b[0m in \u001b[0;36m__call__\u001b[0;34m(self, iterable)\u001b[0m\n\u001b[1;32m    787\u001b[0m                 \u001b[0;31m# consumption.\u001b[0m\u001b[0;34m\u001b[0m\u001b[0;34m\u001b[0m\u001b[0m\n\u001b[1;32m    788\u001b[0m                 \u001b[0mself\u001b[0m\u001b[0;34m.\u001b[0m\u001b[0m_iterating\u001b[0m \u001b[0;34m=\u001b[0m \u001b[0;32mFalse\u001b[0m\u001b[0;34m\u001b[0m\u001b[0m\n\u001b[0;32m--> 789\u001b[0;31m             \u001b[0mself\u001b[0m\u001b[0;34m.\u001b[0m\u001b[0mretrieve\u001b[0m\u001b[0;34m(\u001b[0m\u001b[0;34m)\u001b[0m\u001b[0;34m\u001b[0m\u001b[0m\n\u001b[0m\u001b[1;32m    790\u001b[0m             \u001b[0;31m# Make sure that we get a last message telling us we are done\u001b[0m\u001b[0;34m\u001b[0m\u001b[0;34m\u001b[0m\u001b[0m\n\u001b[1;32m    791\u001b[0m             \u001b[0melapsed_time\u001b[0m \u001b[0;34m=\u001b[0m \u001b[0mtime\u001b[0m\u001b[0;34m.\u001b[0m\u001b[0mtime\u001b[0m\u001b[0;34m(\u001b[0m\u001b[0;34m)\u001b[0m \u001b[0;34m-\u001b[0m \u001b[0mself\u001b[0m\u001b[0;34m.\u001b[0m\u001b[0m_start_time\u001b[0m\u001b[0;34m\u001b[0m\u001b[0m\n",
      "\u001b[0;32m~/anaconda3/lib/python3.6/site-packages/sklearn/externals/joblib/parallel.py\u001b[0m in \u001b[0;36mretrieve\u001b[0;34m(self)\u001b[0m\n\u001b[1;32m    697\u001b[0m             \u001b[0;32mtry\u001b[0m\u001b[0;34m:\u001b[0m\u001b[0;34m\u001b[0m\u001b[0m\n\u001b[1;32m    698\u001b[0m                 \u001b[0;32mif\u001b[0m \u001b[0mgetattr\u001b[0m\u001b[0;34m(\u001b[0m\u001b[0mself\u001b[0m\u001b[0;34m.\u001b[0m\u001b[0m_backend\u001b[0m\u001b[0;34m,\u001b[0m \u001b[0;34m'supports_timeout'\u001b[0m\u001b[0;34m,\u001b[0m \u001b[0;32mFalse\u001b[0m\u001b[0;34m)\u001b[0m\u001b[0;34m:\u001b[0m\u001b[0;34m\u001b[0m\u001b[0m\n\u001b[0;32m--> 699\u001b[0;31m                     \u001b[0mself\u001b[0m\u001b[0;34m.\u001b[0m\u001b[0m_output\u001b[0m\u001b[0;34m.\u001b[0m\u001b[0mextend\u001b[0m\u001b[0;34m(\u001b[0m\u001b[0mjob\u001b[0m\u001b[0;34m.\u001b[0m\u001b[0mget\u001b[0m\u001b[0;34m(\u001b[0m\u001b[0mtimeout\u001b[0m\u001b[0;34m=\u001b[0m\u001b[0mself\u001b[0m\u001b[0;34m.\u001b[0m\u001b[0mtimeout\u001b[0m\u001b[0;34m)\u001b[0m\u001b[0;34m)\u001b[0m\u001b[0;34m\u001b[0m\u001b[0m\n\u001b[0m\u001b[1;32m    700\u001b[0m                 \u001b[0;32melse\u001b[0m\u001b[0;34m:\u001b[0m\u001b[0;34m\u001b[0m\u001b[0m\n\u001b[1;32m    701\u001b[0m                     \u001b[0mself\u001b[0m\u001b[0;34m.\u001b[0m\u001b[0m_output\u001b[0m\u001b[0;34m.\u001b[0m\u001b[0mextend\u001b[0m\u001b[0;34m(\u001b[0m\u001b[0mjob\u001b[0m\u001b[0;34m.\u001b[0m\u001b[0mget\u001b[0m\u001b[0;34m(\u001b[0m\u001b[0;34m)\u001b[0m\u001b[0;34m)\u001b[0m\u001b[0;34m\u001b[0m\u001b[0m\n",
      "\u001b[0;32m~/anaconda3/lib/python3.6/multiprocessing/pool.py\u001b[0m in \u001b[0;36mget\u001b[0;34m(self, timeout)\u001b[0m\n\u001b[1;32m    636\u001b[0m \u001b[0;34m\u001b[0m\u001b[0m\n\u001b[1;32m    637\u001b[0m     \u001b[0;32mdef\u001b[0m \u001b[0mget\u001b[0m\u001b[0;34m(\u001b[0m\u001b[0mself\u001b[0m\u001b[0;34m,\u001b[0m \u001b[0mtimeout\u001b[0m\u001b[0;34m=\u001b[0m\u001b[0;32mNone\u001b[0m\u001b[0;34m)\u001b[0m\u001b[0;34m:\u001b[0m\u001b[0;34m\u001b[0m\u001b[0m\n\u001b[0;32m--> 638\u001b[0;31m         \u001b[0mself\u001b[0m\u001b[0;34m.\u001b[0m\u001b[0mwait\u001b[0m\u001b[0;34m(\u001b[0m\u001b[0mtimeout\u001b[0m\u001b[0;34m)\u001b[0m\u001b[0;34m\u001b[0m\u001b[0m\n\u001b[0m\u001b[1;32m    639\u001b[0m         \u001b[0;32mif\u001b[0m \u001b[0;32mnot\u001b[0m \u001b[0mself\u001b[0m\u001b[0;34m.\u001b[0m\u001b[0mready\u001b[0m\u001b[0;34m(\u001b[0m\u001b[0;34m)\u001b[0m\u001b[0;34m:\u001b[0m\u001b[0;34m\u001b[0m\u001b[0m\n\u001b[1;32m    640\u001b[0m             \u001b[0;32mraise\u001b[0m \u001b[0mTimeoutError\u001b[0m\u001b[0;34m\u001b[0m\u001b[0m\n",
      "\u001b[0;32m~/anaconda3/lib/python3.6/multiprocessing/pool.py\u001b[0m in \u001b[0;36mwait\u001b[0;34m(self, timeout)\u001b[0m\n\u001b[1;32m    633\u001b[0m \u001b[0;34m\u001b[0m\u001b[0m\n\u001b[1;32m    634\u001b[0m     \u001b[0;32mdef\u001b[0m \u001b[0mwait\u001b[0m\u001b[0;34m(\u001b[0m\u001b[0mself\u001b[0m\u001b[0;34m,\u001b[0m \u001b[0mtimeout\u001b[0m\u001b[0;34m=\u001b[0m\u001b[0;32mNone\u001b[0m\u001b[0;34m)\u001b[0m\u001b[0;34m:\u001b[0m\u001b[0;34m\u001b[0m\u001b[0m\n\u001b[0;32m--> 635\u001b[0;31m         \u001b[0mself\u001b[0m\u001b[0;34m.\u001b[0m\u001b[0m_event\u001b[0m\u001b[0;34m.\u001b[0m\u001b[0mwait\u001b[0m\u001b[0;34m(\u001b[0m\u001b[0mtimeout\u001b[0m\u001b[0;34m)\u001b[0m\u001b[0;34m\u001b[0m\u001b[0m\n\u001b[0m\u001b[1;32m    636\u001b[0m \u001b[0;34m\u001b[0m\u001b[0m\n\u001b[1;32m    637\u001b[0m     \u001b[0;32mdef\u001b[0m \u001b[0mget\u001b[0m\u001b[0;34m(\u001b[0m\u001b[0mself\u001b[0m\u001b[0;34m,\u001b[0m \u001b[0mtimeout\u001b[0m\u001b[0;34m=\u001b[0m\u001b[0;32mNone\u001b[0m\u001b[0;34m)\u001b[0m\u001b[0;34m:\u001b[0m\u001b[0;34m\u001b[0m\u001b[0m\n",
      "\u001b[0;32m~/anaconda3/lib/python3.6/threading.py\u001b[0m in \u001b[0;36mwait\u001b[0;34m(self, timeout)\u001b[0m\n\u001b[1;32m    549\u001b[0m             \u001b[0msignaled\u001b[0m \u001b[0;34m=\u001b[0m \u001b[0mself\u001b[0m\u001b[0;34m.\u001b[0m\u001b[0m_flag\u001b[0m\u001b[0;34m\u001b[0m\u001b[0m\n\u001b[1;32m    550\u001b[0m             \u001b[0;32mif\u001b[0m \u001b[0;32mnot\u001b[0m \u001b[0msignaled\u001b[0m\u001b[0;34m:\u001b[0m\u001b[0;34m\u001b[0m\u001b[0m\n\u001b[0;32m--> 551\u001b[0;31m                 \u001b[0msignaled\u001b[0m \u001b[0;34m=\u001b[0m \u001b[0mself\u001b[0m\u001b[0;34m.\u001b[0m\u001b[0m_cond\u001b[0m\u001b[0;34m.\u001b[0m\u001b[0mwait\u001b[0m\u001b[0;34m(\u001b[0m\u001b[0mtimeout\u001b[0m\u001b[0;34m)\u001b[0m\u001b[0;34m\u001b[0m\u001b[0m\n\u001b[0m\u001b[1;32m    552\u001b[0m             \u001b[0;32mreturn\u001b[0m \u001b[0msignaled\u001b[0m\u001b[0;34m\u001b[0m\u001b[0m\n\u001b[1;32m    553\u001b[0m \u001b[0;34m\u001b[0m\u001b[0m\n",
      "\u001b[0;32m~/anaconda3/lib/python3.6/threading.py\u001b[0m in \u001b[0;36mwait\u001b[0;34m(self, timeout)\u001b[0m\n\u001b[1;32m    293\u001b[0m         \u001b[0;32mtry\u001b[0m\u001b[0;34m:\u001b[0m    \u001b[0;31m# restore state no matter what (e.g., KeyboardInterrupt)\u001b[0m\u001b[0;34m\u001b[0m\u001b[0m\n\u001b[1;32m    294\u001b[0m             \u001b[0;32mif\u001b[0m \u001b[0mtimeout\u001b[0m \u001b[0;32mis\u001b[0m \u001b[0;32mNone\u001b[0m\u001b[0;34m:\u001b[0m\u001b[0;34m\u001b[0m\u001b[0m\n\u001b[0;32m--> 295\u001b[0;31m                 \u001b[0mwaiter\u001b[0m\u001b[0;34m.\u001b[0m\u001b[0macquire\u001b[0m\u001b[0;34m(\u001b[0m\u001b[0;34m)\u001b[0m\u001b[0;34m\u001b[0m\u001b[0m\n\u001b[0m\u001b[1;32m    296\u001b[0m                 \u001b[0mgotit\u001b[0m \u001b[0;34m=\u001b[0m \u001b[0;32mTrue\u001b[0m\u001b[0;34m\u001b[0m\u001b[0m\n\u001b[1;32m    297\u001b[0m             \u001b[0;32melse\u001b[0m\u001b[0;34m:\u001b[0m\u001b[0;34m\u001b[0m\u001b[0m\n",
      "\u001b[0;31mKeyboardInterrupt\u001b[0m: "
     ]
    }
   ],
   "source": [
    "### Create empty dictionary called fitted_models\n",
    "fitted_models = {}\n",
    "    # Loop through model pipelines, tuning each one and saving it to fitted_models\n",
    "for name, pipeline in pipelines.items():\n",
    "    if name in ['l1']: # only fit models  I want to fit\n",
    "    # Create cross-validation object from pipeline and hyperparameters\n",
    "        model = GridSearchCV(pipeline, HP[name], cv = 2, n_jobs=-1)\n",
    "        \n",
    "        # Fit model on X_train, y_train\n",
    "        model.fit(X_train, y_train)\n",
    "        \n",
    "        # Store model in fitted_models[name] \n",
    "        fitted_models[name] = model\n",
    "        \n",
    "        # Print '{name} has been fitted'\n",
    "        print(name, ' has been fitted')\n",
    "### gb is significantly slower"
   ]
  },
  {
   "cell_type": "code",
   "execution_count": null,
   "metadata": {
    "ExecuteTime": {
     "end_time": "2018-07-21T00:23:59.527867Z",
     "start_time": "2018-07-21T00:14:28.710Z"
    },
    "collapsed": true
   },
   "outputs": [],
   "source": [
    "# Display best_score_ for each fitted model\n",
    "for name, model in fitted_models.items():\n",
    "    print(name, model.best_score_)\n",
    "    \n",
    "# base: .88 (DT),  change ngram .925, change to max: .825, change to median: .914 (mean is the best among the 3 )\n",
    "# all 3: .911, all + stringclean: .935 , back to only mean: .929 : very similar, clean string ; (l1): .930"
   ]
  },
  {
   "cell_type": "markdown",
   "metadata": {},
   "source": [
    "### confusion matrix and true positive rate "
   ]
  },
  {
   "cell_type": "code",
   "execution_count": null,
   "metadata": {
    "ExecuteTime": {
     "end_time": "2018-07-21T00:23:59.528787Z",
     "start_time": "2018-07-21T00:14:28.845Z"
    },
    "collapsed": true
   },
   "outputs": [],
   "source": [
    "def cm_to_df(cm, label):\n",
    "    \"\"\"make labels=colNames for confusion matrix\"\"\"\n",
    "    cf1 = pd.DataFrame(cm)\n",
    "    cf1.columns = label\n",
    "    cf1[\"index\"] = label\n",
    "    cf1.set_index('index', inplace=True)\n",
    "    return cf1"
   ]
  },
  {
   "cell_type": "code",
   "execution_count": null,
   "metadata": {
    "ExecuteTime": {
     "end_time": "2018-07-21T00:23:59.529613Z",
     "start_time": "2018-07-21T00:14:28.848Z"
    },
    "collapsed": true
   },
   "outputs": [],
   "source": [
    "# Code here\n",
    "X_test = X_test.iloc[:,:8]\n",
    "conf = {}\n",
    "from sklearn.metrics import roc_curve, auc, confusion_matrix\n",
    "for name, model in fitted_models.items():\n",
    "    #pred = model.predict_proba(X_test)[:,1]\n",
    "    #fpr, tpr, threshold = roc_curve(y_test, pred)\n",
    "    #print(name, auc(fpr,tpr))\n",
    "    pred2 = model.predict(X_test)\n",
    "    colNames = y_test.unique() # don't know if this works\n",
    "    cm = confusion_matrix(y_test, pred2, labels = colNames, sample_weight = None)\n",
    "    conf[name] = cm_to_df(cm, colNames) # make label\n",
    "    #conf[name] = cm\n",
    "    tp = np.diag(conf[name]).sum()/len(y_test)\n",
    "    print(name, \"true rate: \", tp)\n",
    "    print()\n",
    "    #print(confusion_matrix(y_test, pred2, labels = None, sample_weight = None))\n",
    "    \n"
   ]
  },
  {
   "cell_type": "markdown",
   "metadata": {},
   "source": [
    "result shows all models are really similar. I don't think model selection matters too much at this situation. It's more about preprocessing of TFIDF"
   ]
  },
  {
   "cell_type": "code",
   "execution_count": null,
   "metadata": {
    "ExecuteTime": {
     "end_time": "2018-07-21T00:23:59.530536Z",
     "start_time": "2018-07-21T00:14:28.982Z"
    },
    "collapsed": true
   },
   "outputs": [],
   "source": [
    "#conf['dt'].to_csv(\"confuMatDT.csv\")"
   ]
  },
  {
   "cell_type": "code",
   "execution_count": null,
   "metadata": {
    "ExecuteTime": {
     "end_time": "2018-07-21T00:23:59.531344Z",
     "start_time": "2018-07-21T00:14:28.985Z"
    },
    "collapsed": true
   },
   "outputs": [],
   "source": [
    "conf['l1']"
   ]
  },
  {
   "cell_type": "code",
   "execution_count": null,
   "metadata": {
    "ExecuteTime": {
     "end_time": "2018-07-21T00:23:59.532174Z",
     "start_time": "2018-07-21T00:14:28.988Z"
    },
    "collapsed": true
   },
   "outputs": [],
   "source": [
    "conf['l1'].to_csv(\"confuMatl1.csv\")"
   ]
  },
  {
   "cell_type": "markdown",
   "metadata": {},
   "source": [
    "Save Model"
   ]
  },
  {
   "cell_type": "code",
   "execution_count": null,
   "metadata": {
    "ExecuteTime": {
     "end_time": "2018-07-21T00:23:59.533218Z",
     "start_time": "2018-07-21T00:14:29.136Z"
    },
    "collapsed": true
   },
   "outputs": [],
   "source": [
    "fitted_models[\"rf\"].best_estimator_"
   ]
  },
  {
   "cell_type": "code",
   "execution_count": null,
   "metadata": {
    "ExecuteTime": {
     "end_time": "2018-07-21T00:23:59.534188Z",
     "start_time": "2018-07-21T00:14:29.139Z"
    },
    "collapsed": true
   },
   "outputs": [],
   "source": [
    "import pickle\n",
    "with open(\"tobacco_model_gb.pkl\", \"wb\") as f:\n",
    "    pickle.dump(fitted_models['gb'].best_estimator_,f)"
   ]
  },
  {
   "cell_type": "code",
   "execution_count": null,
   "metadata": {
    "ExecuteTime": {
     "end_time": "2018-07-21T00:23:59.535059Z",
     "start_time": "2018-07-21T00:14:29.142Z"
    },
    "collapsed": true
   },
   "outputs": [],
   "source": [
    "import pickle\n",
    "with open(\"tobacco_model_DT.pkl\", \"wb\") as f:\n",
    "    pickle.dump(fitted_models['dt'].best_estimator_,f)"
   ]
  },
  {
   "cell_type": "code",
   "execution_count": null,
   "metadata": {
    "ExecuteTime": {
     "end_time": "2018-07-21T00:23:59.536191Z",
     "start_time": "2018-07-21T00:14:29.145Z"
    },
    "collapsed": true
   },
   "outputs": [],
   "source": [
    "import pickle\n",
    "with open(\"tobacco_model_l1_best.pkl\", \"wb\") as f:\n",
    "    pickle.dump(fitted_models['l1'].best_estimator_,f)"
   ]
  },
  {
   "cell_type": "markdown",
   "metadata": {},
   "source": [
    "## evaluate model and see what did we predict wrong"
   ]
  },
  {
   "cell_type": "markdown",
   "metadata": {},
   "source": [
    "import pickle\n",
    "with open(\"tobacco_model_gb.pkl\", \"rb\") as f:\n",
    "    model = pickle.load(f)"
   ]
  },
  {
   "cell_type": "code",
   "execution_count": 109,
   "metadata": {
    "ExecuteTime": {
     "end_time": "2018-07-21T00:41:10.116541Z",
     "start_time": "2018-07-21T00:41:10.105684Z"
    },
    "collapsed": true
   },
   "outputs": [],
   "source": [
    "# import DT\n",
    "import pickle\n",
    "with open(\"tobacco_model_l1_best.pkl\", \"rb\") as f:\n",
    "    model = pickle.load(f)"
   ]
  },
  {
   "cell_type": "code",
   "execution_count": 110,
   "metadata": {
    "ExecuteTime": {
     "end_time": "2018-07-21T00:41:11.038869Z",
     "start_time": "2018-07-21T00:41:11.027949Z"
    },
    "collapsed": true
   },
   "outputs": [],
   "source": [
    "from sklearn.metrics import roc_curve, auc, confusion_matrix\n",
    "def predictModel(model): \n",
    "    pred = model.predict(X_test)\n",
    "    label = y_test.unique()\n",
    "    cm = confusion_matrix(y_test, pred, labels = label, sample_weight = None)\n",
    "    cm = cm_to_df(cm, label) # make label\n",
    "    #conf[name] = cm\n",
    "    tp = np.diag(cm).sum()/len(y_test)\n",
    "    print(tp)\n",
    "    return(cm, pred)"
   ]
  },
  {
   "cell_type": "code",
   "execution_count": 111,
   "metadata": {
    "ExecuteTime": {
     "end_time": "2018-07-21T00:41:11.899828Z",
     "start_time": "2018-07-21T00:41:11.883070Z"
    }
   },
   "outputs": [
    {
     "data": {
      "text/html": [
       "<div>\n",
       "<style>\n",
       "    .dataframe thead tr:only-child th {\n",
       "        text-align: right;\n",
       "    }\n",
       "\n",
       "    .dataframe thead th {\n",
       "        text-align: left;\n",
       "    }\n",
       "\n",
       "    .dataframe tbody tr th {\n",
       "        vertical-align: top;\n",
       "    }\n",
       "</style>\n",
       "<table border=\"1\" class=\"dataframe\">\n",
       "  <thead>\n",
       "    <tr style=\"text-align: right;\">\n",
       "      <th></th>\n",
       "      <th>Convenience store with or without gas</th>\n",
       "      <th>Drug store or pharmacy</th>\n",
       "      <th>Beer, wine, liquor store</th>\n",
       "      <th>Mass merchandiser</th>\n",
       "      <th>Grocery store</th>\n",
       "      <th>Other store type not listed</th>\n",
       "      <th>Tobacco Hookah ECig</th>\n",
       "      <th>No Tobacco</th>\n",
       "    </tr>\n",
       "  </thead>\n",
       "  <tbody>\n",
       "    <tr>\n",
       "      <th>7028</th>\n",
       "      <td>0.023003</td>\n",
       "      <td>0.008418</td>\n",
       "      <td>0.013818</td>\n",
       "      <td>0.000000</td>\n",
       "      <td>0.008317</td>\n",
       "      <td>0.012904</td>\n",
       "      <td>0.003608</td>\n",
       "      <td>0.003287</td>\n",
       "    </tr>\n",
       "    <tr>\n",
       "      <th>4615</th>\n",
       "      <td>0.009870</td>\n",
       "      <td>0.005989</td>\n",
       "      <td>0.007500</td>\n",
       "      <td>0.012388</td>\n",
       "      <td>0.025039</td>\n",
       "      <td>0.008434</td>\n",
       "      <td>0.006052</td>\n",
       "      <td>0.016041</td>\n",
       "    </tr>\n",
       "    <tr>\n",
       "      <th>6493</th>\n",
       "      <td>0.019563</td>\n",
       "      <td>0.026535</td>\n",
       "      <td>0.005245</td>\n",
       "      <td>0.119466</td>\n",
       "      <td>0.029979</td>\n",
       "      <td>0.028323</td>\n",
       "      <td>0.007975</td>\n",
       "      <td>0.038691</td>\n",
       "    </tr>\n",
       "    <tr>\n",
       "      <th>4518</th>\n",
       "      <td>0.032460</td>\n",
       "      <td>0.005989</td>\n",
       "      <td>0.005550</td>\n",
       "      <td>0.011579</td>\n",
       "      <td>0.004647</td>\n",
       "      <td>0.005380</td>\n",
       "      <td>0.004882</td>\n",
       "      <td>0.004448</td>\n",
       "    </tr>\n",
       "    <tr>\n",
       "      <th>13812</th>\n",
       "      <td>0.014291</td>\n",
       "      <td>0.000000</td>\n",
       "      <td>0.010689</td>\n",
       "      <td>0.000000</td>\n",
       "      <td>0.002827</td>\n",
       "      <td>0.006870</td>\n",
       "      <td>0.000000</td>\n",
       "      <td>0.014124</td>\n",
       "    </tr>\n",
       "  </tbody>\n",
       "</table>\n",
       "</div>"
      ],
      "text/plain": [
       "       Convenience store with or without gas  Drug store or pharmacy   \\\n",
       "7028                                0.023003                 0.008418   \n",
       "4615                                0.009870                 0.005989   \n",
       "6493                                0.019563                 0.026535   \n",
       "4518                                0.032460                 0.005989   \n",
       "13812                               0.014291                 0.000000   \n",
       "\n",
       "       Beer, wine, liquor store  Mass merchandiser  Grocery store   \\\n",
       "7028                   0.013818           0.000000        0.008317   \n",
       "4615                   0.007500           0.012388        0.025039   \n",
       "6493                   0.005245           0.119466        0.029979   \n",
       "4518                   0.005550           0.011579        0.004647   \n",
       "13812                  0.010689           0.000000        0.002827   \n",
       "\n",
       "       Other store type not listed  Tobacco Hookah ECig  No Tobacco  \n",
       "7028                      0.012904             0.003608    0.003287  \n",
       "4615                      0.008434             0.006052    0.016041  \n",
       "6493                      0.028323             0.007975    0.038691  \n",
       "4518                      0.005380             0.004882    0.004448  \n",
       "13812                     0.006870             0.000000    0.014124  "
      ]
     },
     "execution_count": 111,
     "metadata": {},
     "output_type": "execute_result"
    }
   ],
   "source": [
    "X_test.head()"
   ]
  },
  {
   "cell_type": "code",
   "execution_count": 116,
   "metadata": {
    "ExecuteTime": {
     "end_time": "2018-07-21T00:42:27.342661Z",
     "start_time": "2018-07-21T00:42:27.338973Z"
    },
    "collapsed": true
   },
   "outputs": [],
   "source": [
    "#cm, pred2 = predictModel(model) # prediction increased by 5% after I change traintestsplit = .5"
   ]
  },
  {
   "cell_type": "code",
   "execution_count": 113,
   "metadata": {
    "ExecuteTime": {
     "end_time": "2018-07-21T00:41:25.955282Z",
     "start_time": "2018-07-21T00:41:25.944881Z"
    }
   },
   "outputs": [
    {
     "ename": "KeyError",
     "evalue": "'l1'",
     "output_type": "error",
     "traceback": [
      "\u001b[0;31m---------------------------------------------------------------------------\u001b[0m",
      "\u001b[0;31mKeyError\u001b[0m                                  Traceback (most recent call last)",
      "\u001b[0;32m<ipython-input-113-91f33284ded5>\u001b[0m in \u001b[0;36m<module>\u001b[0;34m()\u001b[0m\n\u001b[0;32m----> 1\u001b[0;31m \u001b[0mcm\u001b[0m\u001b[0;34m,\u001b[0m \u001b[0mpred2\u001b[0m \u001b[0;34m=\u001b[0m \u001b[0mpredictModel\u001b[0m\u001b[0;34m(\u001b[0m\u001b[0mfitted_models\u001b[0m\u001b[0;34m[\u001b[0m\u001b[0;34m'l1'\u001b[0m\u001b[0;34m]\u001b[0m\u001b[0;34m)\u001b[0m \u001b[0;31m# prediction increased by 5% after I change traintestsplit = .5\u001b[0m\u001b[0;34m\u001b[0m\u001b[0m\n\u001b[0m",
      "\u001b[0;31mKeyError\u001b[0m: 'l1'"
     ]
    }
   ],
   "source": [
    "#cm, pred2 = predictModel(fitted_models['l1']) # prediction increased by 5% after I change traintestsplit = .5"
   ]
  },
  {
   "cell_type": "code",
   "execution_count": null,
   "metadata": {
    "ExecuteTime": {
     "end_time": "2018-07-21T00:23:59.541180Z",
     "start_time": "2018-07-21T00:14:29.492Z"
    },
    "collapsed": true
   },
   "outputs": [],
   "source": [
    "cm # label is wrong and misplaced. need to fix it"
   ]
  },
  {
   "cell_type": "code",
   "execution_count": null,
   "metadata": {
    "ExecuteTime": {
     "end_time": "2018-07-21T00:23:59.541806Z",
     "start_time": "2018-07-21T00:14:29.495Z"
    },
    "collapsed": true
   },
   "outputs": [],
   "source": [
    "dict1.keys()"
   ]
  },
  {
   "cell_type": "code",
   "execution_count": null,
   "metadata": {
    "ExecuteTime": {
     "end_time": "2018-07-21T00:23:59.542562Z",
     "start_time": "2018-07-21T00:14:29.497Z"
    },
    "collapsed": true
   },
   "outputs": [],
   "source": [
    "# write out conf matrix and visualize it in excel"
   ]
  },
  {
   "cell_type": "markdown",
   "metadata": {},
   "source": [
    "94% accuracy in predicting store types"
   ]
  },
  {
   "cell_type": "markdown",
   "metadata": {},
   "source": [
    "### make confu matrix for walmart only"
   ]
  },
  {
   "cell_type": "code",
   "execution_count": null,
   "metadata": {
    "ExecuteTime": {
     "end_time": "2018-07-21T00:23:59.543352Z",
     "start_time": "2018-07-21T00:14:29.786Z"
    },
    "collapsed": true
   },
   "outputs": [],
   "source": [
    "# first join the test and pred\n",
    "X_test1 = X_test\n",
    "X_test1['true'] = y_test\n",
    "X_test1['pred'] = pred2\n",
    "df_result = pd.DataFrame(df_join.retail_name).join(X_test1, how = 'inner')"
   ]
  },
  {
   "cell_type": "code",
   "execution_count": null,
   "metadata": {
    "ExecuteTime": {
     "end_time": "2018-07-21T00:23:59.544089Z",
     "start_time": "2018-07-21T00:14:29.788Z"
    },
    "collapsed": true
   },
   "outputs": [],
   "source": [
    "# check: join method is correct\n",
    "(df_result.true ==df_result.pred).mean()"
   ]
  },
  {
   "cell_type": "code",
   "execution_count": null,
   "metadata": {
    "collapsed": true
   },
   "outputs": [],
   "source": []
  },
  {
   "cell_type": "code",
   "execution_count": null,
   "metadata": {
    "collapsed": true
   },
   "outputs": [],
   "source": []
  },
  {
   "cell_type": "code",
   "execution_count": null,
   "metadata": {
    "ExecuteTime": {
     "end_time": "2018-07-21T00:23:59.544838Z",
     "start_time": "2018-07-21T00:14:29.792Z"
    },
    "collapsed": true
   },
   "outputs": [],
   "source": [
    "df_walmart = df_result.loc[df_result.retail_name.str.contains(\"walmart\")]"
   ]
  },
  {
   "cell_type": "code",
   "execution_count": null,
   "metadata": {
    "ExecuteTime": {
     "end_time": "2018-07-21T00:23:59.545583Z",
     "start_time": "2018-07-21T00:14:29.794Z"
    },
    "collapsed": true
   },
   "outputs": [],
   "source": [
    "df_walmart.retail_name.unique() # they all seems to be mass merch"
   ]
  },
  {
   "cell_type": "code",
   "execution_count": null,
   "metadata": {
    "ExecuteTime": {
     "end_time": "2018-07-21T00:23:59.546370Z",
     "start_time": "2018-07-21T00:14:29.796Z"
    },
    "collapsed": true
   },
   "outputs": [],
   "source": [
    "# which walmart is predicted and coded as Mass \n",
    "df_walmart['Mass_true'] = df_walmart.true.str.contains(\"Mass\")\n",
    "df_walmart['Mass_pred'] = df_walmart.pred.str.contains(\"Mass\")"
   ]
  },
  {
   "cell_type": "code",
   "execution_count": null,
   "metadata": {
    "ExecuteTime": {
     "end_time": "2018-07-21T00:23:59.547183Z",
     "start_time": "2018-07-21T00:14:29.798Z"
    },
    "collapsed": true
   },
   "outputs": [],
   "source": [
    "label_wal = df_walmart.Mass_true.unique()\n",
    "cm_wal = confusion_matrix(df_walmart.Mass_true, df_walmart.Mass_pred, labels= label_wal)\n",
    "cm_wal1 = cm_to_df(cm_wal, label_wal)\n",
    "cm_wal1"
   ]
  },
  {
   "cell_type": "code",
   "execution_count": null,
   "metadata": {
    "ExecuteTime": {
     "end_time": "2018-07-21T00:23:59.547953Z",
     "start_time": "2018-07-21T00:14:29.801Z"
    },
    "collapsed": true
   },
   "outputs": [],
   "source": [
    "# true positive(sensitivty):\n",
    "tp, fn, fp, tn  = cm_wal.ravel()\n"
   ]
  },
  {
   "cell_type": "code",
   "execution_count": null,
   "metadata": {
    "ExecuteTime": {
     "end_time": "2018-07-21T00:23:59.548664Z",
     "start_time": "2018-07-21T00:14:29.803Z"
    },
    "collapsed": true
   },
   "outputs": [],
   "source": [
    "tpr, fpr = np.diag(cm_wal)/cm_wal.sum(1)\n",
    "print(tpr,fpr)\n",
    "# high tpr and low fpr: it's better to err on the yes side (predict more walmarts as mass merchandizer than not). Good\n",
    "# it shows machine can help to reduce  human coding error by predicting more walmart as right (Mass Merch)"
   ]
  },
  {
   "cell_type": "markdown",
   "metadata": {},
   "source": [
    "By definition a confusion matrix :math:`C` is such that :math:`C_{i, j}`\n",
    "is equal to the number of observations known to be in group :math:`i` but\n",
    "predicted to be in group :math:`j`.\n",
    "\n",
    "Thus in binary classification, the count of true negatives is\n",
    ":math:`C_{0,0}`, false negatives is :math:`C_{1,0}`, true positives is\n",
    ":math:`C_{1,1}` and false positives is :math:`C_{0,1}`."
   ]
  },
  {
   "cell_type": "markdown",
   "metadata": {},
   "source": [
    "### get only the wrong predictions"
   ]
  },
  {
   "cell_type": "code",
   "execution_count": 117,
   "metadata": {
    "ExecuteTime": {
     "end_time": "2018-07-21T00:42:40.310318Z",
     "start_time": "2018-07-21T00:42:40.286907Z"
    },
    "collapsed": true
   },
   "outputs": [],
   "source": [
    "\n",
    "idx = (pred2 !=y_test).index \n",
    "idx = idx[pred2 !=y_test]\n",
    "df_error = df_join.iloc[idx] \n",
    "df_pred = pd.DataFrame({'pred':pred2[(pred2 !=y_test)]}, index= idx)\n",
    "df_error = df_error.join(df_pred)"
   ]
  },
  {
   "cell_type": "code",
   "execution_count": 118,
   "metadata": {
    "ExecuteTime": {
     "end_time": "2018-07-21T00:42:41.004363Z",
     "start_time": "2018-07-21T00:42:40.973650Z"
    }
   },
   "outputs": [
    {
     "data": {
      "text/html": [
       "<div>\n",
       "<style>\n",
       "    .dataframe thead tr:only-child th {\n",
       "        text-align: right;\n",
       "    }\n",
       "\n",
       "    .dataframe thead th {\n",
       "        text-align: left;\n",
       "    }\n",
       "\n",
       "    .dataframe tbody tr th {\n",
       "        vertical-align: top;\n",
       "    }\n",
       "</style>\n",
       "<table border=\"1\" class=\"dataframe\">\n",
       "  <thead>\n",
       "    <tr style=\"text-align: right;\">\n",
       "      <th></th>\n",
       "      <th>retail_name</th>\n",
       "      <th>retail_state</th>\n",
       "      <th>snap</th>\n",
       "      <th>wic</th>\n",
       "      <th>alcohol</th>\n",
       "      <th>pharmacy</th>\n",
       "      <th>any_tob_sld</th>\n",
       "      <th>str_typ</th>\n",
       "      <th>year</th>\n",
       "      <th>can_surveyD</th>\n",
       "      <th>...</th>\n",
       "      <th>str_typ1</th>\n",
       "      <th>Convenience store with or without gas</th>\n",
       "      <th>Drug store or pharmacy</th>\n",
       "      <th>Beer, wine, liquor store</th>\n",
       "      <th>Mass merchandiser</th>\n",
       "      <th>Grocery store</th>\n",
       "      <th>Other store type not listed</th>\n",
       "      <th>Tobacco Hookah ECig</th>\n",
       "      <th>No Tobacco</th>\n",
       "      <th>pred</th>\n",
       "    </tr>\n",
       "  </thead>\n",
       "  <tbody>\n",
       "    <tr>\n",
       "      <th>8667</th>\n",
       "      <td>the farr side</td>\n",
       "      <td>IA</td>\n",
       "      <td>0.0</td>\n",
       "      <td>0.0</td>\n",
       "      <td>1.0</td>\n",
       "      <td>0.0</td>\n",
       "      <td>1.0</td>\n",
       "      <td>Drug store or pharmacy</td>\n",
       "      <td>2016.0</td>\n",
       "      <td>1.0</td>\n",
       "      <td>...</td>\n",
       "      <td>Drug</td>\n",
       "      <td>0.004248</td>\n",
       "      <td>0.037198</td>\n",
       "      <td>0.008019</td>\n",
       "      <td>0.002219</td>\n",
       "      <td>0.005043</td>\n",
       "      <td>0.004955</td>\n",
       "      <td>0.008050</td>\n",
       "      <td>0.005642</td>\n",
       "      <td>Convenience store with or without gas</td>\n",
       "    </tr>\n",
       "    <tr>\n",
       "      <th>3047</th>\n",
       "      <td>family dollar store 9414</td>\n",
       "      <td>FL</td>\n",
       "      <td>1.0</td>\n",
       "      <td>0.0</td>\n",
       "      <td>1.0</td>\n",
       "      <td>0.0</td>\n",
       "      <td>1.0</td>\n",
       "      <td>Grocery store</td>\n",
       "      <td>2016.0</td>\n",
       "      <td>1.0</td>\n",
       "      <td>...</td>\n",
       "      <td>Grocery</td>\n",
       "      <td>0.009051</td>\n",
       "      <td>0.021385</td>\n",
       "      <td>0.004888</td>\n",
       "      <td>0.064805</td>\n",
       "      <td>0.021680</td>\n",
       "      <td>0.014347</td>\n",
       "      <td>0.010912</td>\n",
       "      <td>0.019218</td>\n",
       "      <td>Mass merchandiser</td>\n",
       "    </tr>\n",
       "    <tr>\n",
       "      <th>2186</th>\n",
       "      <td>walgreens</td>\n",
       "      <td>FL</td>\n",
       "      <td>1.0</td>\n",
       "      <td>1.0</td>\n",
       "      <td>1.0</td>\n",
       "      <td>1.0</td>\n",
       "      <td>1.0</td>\n",
       "      <td>Grocery store</td>\n",
       "      <td>2015.0</td>\n",
       "      <td>1.0</td>\n",
       "      <td>...</td>\n",
       "      <td>Grocery</td>\n",
       "      <td>0.010556</td>\n",
       "      <td>0.162385</td>\n",
       "      <td>0.012636</td>\n",
       "      <td>0.051295</td>\n",
       "      <td>0.015952</td>\n",
       "      <td>0.000000</td>\n",
       "      <td>0.000000</td>\n",
       "      <td>0.009861</td>\n",
       "      <td>Drug store or pharmacy</td>\n",
       "    </tr>\n",
       "    <tr>\n",
       "      <th>8457</th>\n",
       "      <td>kwik stop liquor</td>\n",
       "      <td>IA</td>\n",
       "      <td>1.0</td>\n",
       "      <td>0.0</td>\n",
       "      <td>1.0</td>\n",
       "      <td>0.0</td>\n",
       "      <td>1.0</td>\n",
       "      <td>Beer, wine, liquor store</td>\n",
       "      <td>2016.0</td>\n",
       "      <td>1.0</td>\n",
       "      <td>...</td>\n",
       "      <td>Beer,</td>\n",
       "      <td>0.011968</td>\n",
       "      <td>0.009876</td>\n",
       "      <td>0.025627</td>\n",
       "      <td>0.002480</td>\n",
       "      <td>0.008884</td>\n",
       "      <td>0.015300</td>\n",
       "      <td>0.007228</td>\n",
       "      <td>0.007180</td>\n",
       "      <td>Convenience store with or without gas</td>\n",
       "    </tr>\n",
       "    <tr>\n",
       "      <th>12107</th>\n",
       "      <td>store</td>\n",
       "      <td>ND</td>\n",
       "      <td>1.0</td>\n",
       "      <td>0.0</td>\n",
       "      <td>0.0</td>\n",
       "      <td>0.0</td>\n",
       "      <td>1.0</td>\n",
       "      <td>Convenience store with or without gas</td>\n",
       "      <td>2016.0</td>\n",
       "      <td>1.0</td>\n",
       "      <td>...</td>\n",
       "      <td>Convenience</td>\n",
       "      <td>0.020618</td>\n",
       "      <td>0.080238</td>\n",
       "      <td>0.031471</td>\n",
       "      <td>0.096940</td>\n",
       "      <td>0.035151</td>\n",
       "      <td>0.030503</td>\n",
       "      <td>0.031481</td>\n",
       "      <td>0.036336</td>\n",
       "      <td>Mass merchandiser</td>\n",
       "    </tr>\n",
       "  </tbody>\n",
       "</table>\n",
       "<p>5 rows × 24 columns</p>\n",
       "</div>"
      ],
      "text/plain": [
       "                    retail_name retail_state  snap  wic  alcohol  pharmacy  \\\n",
       "8667              the farr side           IA   0.0  0.0      1.0       0.0   \n",
       "3047   family dollar store 9414           FL   1.0  0.0      1.0       0.0   \n",
       "2186                 walgreens            FL   1.0  1.0      1.0       1.0   \n",
       "8457           kwik stop liquor           IA   1.0  0.0      1.0       0.0   \n",
       "12107                    store            ND   1.0  0.0      0.0       0.0   \n",
       "\n",
       "       any_tob_sld                                str_typ    year  \\\n",
       "8667           1.0                Drug store or pharmacy   2016.0   \n",
       "3047           1.0                         Grocery store   2016.0   \n",
       "2186           1.0                         Grocery store   2015.0   \n",
       "8457           1.0               Beer, wine, liquor store  2016.0   \n",
       "12107          1.0  Convenience store with or without gas  2016.0   \n",
       "\n",
       "       can_surveyD                  ...                       str_typ1  \\\n",
       "8667           1.0                  ...                           Drug   \n",
       "3047           1.0                  ...                        Grocery   \n",
       "2186           1.0                  ...                        Grocery   \n",
       "8457           1.0                  ...                          Beer,   \n",
       "12107          1.0                  ...                    Convenience   \n",
       "\n",
       "       Convenience store with or without gas  Drug store or pharmacy   \\\n",
       "8667                                0.004248                 0.037198   \n",
       "3047                                0.009051                 0.021385   \n",
       "2186                                0.010556                 0.162385   \n",
       "8457                                0.011968                 0.009876   \n",
       "12107                               0.020618                 0.080238   \n",
       "\n",
       "      Beer, wine, liquor store Mass merchandiser  Grocery store   \\\n",
       "8667                  0.008019          0.002219        0.005043   \n",
       "3047                  0.004888          0.064805        0.021680   \n",
       "2186                  0.012636          0.051295        0.015952   \n",
       "8457                  0.025627          0.002480        0.008884   \n",
       "12107                 0.031471          0.096940        0.035151   \n",
       "\n",
       "       Other store type not listed  Tobacco Hookah ECig  No Tobacco  \\\n",
       "8667                      0.004955             0.008050    0.005642   \n",
       "3047                      0.014347             0.010912    0.019218   \n",
       "2186                      0.000000             0.000000    0.009861   \n",
       "8457                      0.015300             0.007228    0.007180   \n",
       "12107                     0.030503             0.031481    0.036336   \n",
       "\n",
       "                                        pred  \n",
       "8667   Convenience store with or without gas  \n",
       "3047                       Mass merchandiser  \n",
       "2186                 Drug store or pharmacy   \n",
       "8457   Convenience store with or without gas  \n",
       "12107                      Mass merchandiser  \n",
       "\n",
       "[5 rows x 24 columns]"
      ]
     },
     "execution_count": 118,
     "metadata": {},
     "output_type": "execute_result"
    }
   ],
   "source": [
    "df_error.head()"
   ]
  },
  {
   "cell_type": "code",
   "execution_count": 119,
   "metadata": {
    "ExecuteTime": {
     "end_time": "2018-07-21T00:42:44.760528Z",
     "start_time": "2018-07-21T00:42:44.742885Z"
    },
    "collapsed": true
   },
   "outputs": [],
   "source": [
    "# very annoy way of subsetting the data\n",
    "df_error2 = pd.DataFrame(df_error.iloc[:,0:2]).join(df_error.iloc[:,-10:]).drop_duplicates()"
   ]
  },
  {
   "cell_type": "code",
   "execution_count": 120,
   "metadata": {
    "ExecuteTime": {
     "end_time": "2018-07-21T00:42:45.282206Z",
     "start_time": "2018-07-21T00:42:45.270429Z"
    },
    "collapsed": true
   },
   "outputs": [],
   "source": [
    "df_error2.to_csv('df_error4.csv')"
   ]
  },
  {
   "cell_type": "markdown",
   "metadata": {},
   "source": [
    "Why does error exist? Bad data coding"
   ]
  },
  {
   "cell_type": "code",
   "execution_count": 121,
   "metadata": {
    "ExecuteTime": {
     "end_time": "2018-07-21T00:42:46.385392Z",
     "start_time": "2018-07-21T00:42:46.382681Z"
    },
    "collapsed": true
   },
   "outputs": [],
   "source": [
    "#df_error2.loc[df_error2.retail_name.str.contains(r\"wal-*mart\")]"
   ]
  },
  {
   "cell_type": "markdown",
   "metadata": {},
   "source": [
    "coding of wal-mart storetype wasn't consistent. It could be beer, grocery, convenience, mass, or other. The bad data quality confuses people"
   ]
  },
  {
   "cell_type": "code",
   "execution_count": 122,
   "metadata": {
    "ExecuteTime": {
     "end_time": "2018-07-21T00:42:47.729040Z",
     "start_time": "2018-07-21T00:42:47.699359Z"
    }
   },
   "outputs": [
    {
     "data": {
      "text/plain": [
       "array([\"shaw's beer  wine\", \"shaw's beer  wine \", \"shaw's beerwine\",\n",
       "       'shaws beer and wine'], dtype=object)"
      ]
     },
     "execution_count": 122,
     "metadata": {},
     "output_type": "execute_result"
    }
   ],
   "source": [
    "df.loc[df.retail_name.str.contains('beer') & df.str_typ.str.contains('Groc')].retail_name.unique()\n",
    "# bad naming. Shaw's is a grocery store in VT, not named as beer &amp and wine"
   ]
  },
  {
   "cell_type": "code",
   "execution_count": 123,
   "metadata": {
    "ExecuteTime": {
     "end_time": "2018-07-21T00:42:48.422192Z",
     "start_time": "2018-07-21T00:42:48.418568Z"
    },
    "collapsed": true
   },
   "outputs": [],
   "source": [
    "# http://scikit-learn.org/stable/auto_examples/model_selection/plot_roc.html"
   ]
  },
  {
   "cell_type": "markdown",
   "metadata": {},
   "source": [
    "## Visualize DT"
   ]
  },
  {
   "cell_type": "code",
   "execution_count": 146,
   "metadata": {
    "ExecuteTime": {
     "end_time": "2018-07-21T01:09:05.599892Z",
     "start_time": "2018-07-21T01:09:05.589192Z"
    },
    "collapsed": true
   },
   "outputs": [],
   "source": [
    "def visualize_tree(tree, feature_names):\n",
    "    \"\"\"Create tree png using graphviz.\n",
    "\n",
    "    Args\n",
    "    ----\n",
    "    tree -- scikit-learn DecsisionTree.\n",
    "    feature_names -- list of feature names.\n",
    "    \"\"\"\n",
    "    with open(\"dt.dot\", 'w') as f:\n",
    "        export_graphviz(tree, out_file=f,\n",
    "                        feature_names=feature_names, max_depth = 3)\n",
    "\n",
    "    command = [\"dot\", \"-Tpng\", \"dt.dot\", \"-o\", \"dt.png\"]\n",
    "    try:\n",
    "        subprocess.check_call(command)\n",
    "    except:\n",
    "        exit(\"Could not run dot, ie graphviz, to \"\n",
    "             \"produce visualization\")"
   ]
  },
  {
   "cell_type": "code",
   "execution_count": 125,
   "metadata": {
    "ExecuteTime": {
     "end_time": "2018-07-21T00:43:06.055797Z",
     "start_time": "2018-07-21T00:43:06.044687Z"
    }
   },
   "outputs": [
    {
     "ename": "KeyError",
     "evalue": "'dt'",
     "output_type": "error",
     "traceback": [
      "\u001b[0;31m---------------------------------------------------------------------------\u001b[0m",
      "\u001b[0;31mKeyError\u001b[0m                                  Traceback (most recent call last)",
      "\u001b[0;32m<ipython-input-125-dd20e30136fe>\u001b[0m in \u001b[0;36m<module>\u001b[0;34m()\u001b[0m\n\u001b[0;32m----> 1\u001b[0;31m \u001b[0mfitted_models\u001b[0m\u001b[0;34m[\u001b[0m\u001b[0;34m'dt'\u001b[0m\u001b[0;34m]\u001b[0m\u001b[0;34m.\u001b[0m\u001b[0mfit\u001b[0m\u001b[0;34m(\u001b[0m\u001b[0mX_train\u001b[0m\u001b[0;34m,\u001b[0m \u001b[0my_train\u001b[0m\u001b[0;34m)\u001b[0m\u001b[0;34m\u001b[0m\u001b[0m\n\u001b[0m\u001b[1;32m      2\u001b[0m \u001b[0mfitted_models\u001b[0m\u001b[0;34m[\u001b[0m\u001b[0;34m'dt'\u001b[0m\u001b[0;34m]\u001b[0m\u001b[0;34m.\u001b[0m\u001b[0mbest_estimator_\u001b[0m\u001b[0;34m\u001b[0m\u001b[0m\n",
      "\u001b[0;31mKeyError\u001b[0m: 'dt'"
     ]
    }
   ],
   "source": [
    "fitted_models['dt'].fit(X_train, y_train)\n",
    "fitted_models['dt'].best_estimator_"
   ]
  },
  {
   "cell_type": "code",
   "execution_count": null,
   "metadata": {
    "ExecuteTime": {
     "end_time": "2018-07-21T00:23:59.558619Z",
     "start_time": "2018-07-21T00:14:30.563Z"
    },
    "collapsed": true
   },
   "outputs": [],
   "source": [
    "with open(\"tobacco_model_DT.pkl\", \"wb\") as f:\n",
    "    pickle.dump(fitted_models['dt'].best_estimator_,f)"
   ]
  },
  {
   "cell_type": "code",
   "execution_count": null,
   "metadata": {
    "ExecuteTime": {
     "end_time": "2018-07-21T00:23:59.559476Z",
     "start_time": "2018-07-21T00:14:30.565Z"
    },
    "collapsed": true
   },
   "outputs": [],
   "source": [
    "\n",
    "with open(\"tobacco_model_DT.pkl\", \"rb\") as f:\n",
    "    model = pickle.load(f)"
   ]
  },
  {
   "cell_type": "markdown",
   "metadata": {},
   "source": [
    "### the model we fitted can't be visualized. have to make new model. make a much simplier DT for visual example purpose. "
   ]
  },
  {
   "cell_type": "code",
   "execution_count": 126,
   "metadata": {
    "ExecuteTime": {
     "end_time": "2018-07-21T00:54:23.785660Z",
     "start_time": "2018-07-21T00:54:23.782014Z"
    },
    "collapsed": true
   },
   "outputs": [],
   "source": [
    "dt = DecisionTreeClassifier(max_depth= 10, max_leaf_nodes=10)"
   ]
  },
  {
   "cell_type": "code",
   "execution_count": 127,
   "metadata": {
    "ExecuteTime": {
     "end_time": "2018-07-21T00:54:24.356718Z",
     "start_time": "2018-07-21T00:54:24.322435Z"
    }
   },
   "outputs": [
    {
     "data": {
      "text/plain": [
       "DecisionTreeClassifier(class_weight=None, criterion='gini', max_depth=10,\n",
       "            max_features=None, max_leaf_nodes=10,\n",
       "            min_impurity_decrease=0.0, min_impurity_split=None,\n",
       "            min_samples_leaf=1, min_samples_split=2,\n",
       "            min_weight_fraction_leaf=0.0, presort=False, random_state=None,\n",
       "            splitter='best')"
      ]
     },
     "execution_count": 127,
     "metadata": {},
     "output_type": "execute_result"
    }
   ],
   "source": [
    "dt.fit(X_train, y_train)"
   ]
  },
  {
   "cell_type": "code",
   "execution_count": 128,
   "metadata": {
    "ExecuteTime": {
     "end_time": "2018-07-21T00:54:25.607511Z",
     "start_time": "2018-07-21T00:54:25.537098Z"
    },
    "collapsed": true
   },
   "outputs": [],
   "source": [
    "X_test = X_test.iloc[:,:8]\n",
    "X_test.rename(columns= lambda x : x[5:], inplace= True)"
   ]
  },
  {
   "cell_type": "code",
   "execution_count": 129,
   "metadata": {
    "ExecuteTime": {
     "end_time": "2018-07-21T00:54:26.106519Z",
     "start_time": "2018-07-21T00:54:26.100427Z"
    }
   },
   "outputs": [
    {
     "data": {
      "text/plain": [
       "array([0.27196266, 0.11021684, 0.09140471, 0.18369681, 0.17680505,\n",
       "       0.05778777, 0.05005957, 0.0580666 ])"
      ]
     },
     "execution_count": 129,
     "metadata": {},
     "output_type": "execute_result"
    }
   ],
   "source": [
    "dt.feature_importances_"
   ]
  },
  {
   "cell_type": "code",
   "execution_count": 130,
   "metadata": {
    "ExecuteTime": {
     "end_time": "2018-07-21T00:54:26.714208Z",
     "start_time": "2018-07-21T00:54:26.673415Z"
    }
   },
   "outputs": [
    {
     "data": {
      "text/plain": [
       "0.8642725112226036"
      ]
     },
     "execution_count": 130,
     "metadata": {},
     "output_type": "execute_result"
    }
   ],
   "source": [
    "pred3 = dt.predict(X_test)\n",
    "cf = confusion_matrix(y_test, pred3)\n",
    "np.diag(cf).sum()/cf.sum()"
   ]
  },
  {
   "cell_type": "code",
   "execution_count": null,
   "metadata": {
    "ExecuteTime": {
     "end_time": "2018-07-21T00:23:59.565288Z",
     "start_time": "2018-07-21T00:14:30.727Z"
    },
    "collapsed": true
   },
   "outputs": [],
   "source": [
    "#list(dict1.keys())"
   ]
  },
  {
   "cell_type": "code",
   "execution_count": 131,
   "metadata": {
    "ExecuteTime": {
     "end_time": "2018-07-21T00:54:39.720625Z",
     "start_time": "2018-07-21T00:54:39.713932Z"
    },
    "collapsed": true
   },
   "outputs": [],
   "source": [
    "visualize_tree(dt, list(dict1.keys()))"
   ]
  },
  {
   "cell_type": "code",
   "execution_count": null,
   "metadata": {
    "ExecuteTime": {
     "end_time": "2018-07-21T00:23:59.567494Z",
     "start_time": "2018-07-21T00:14:30.731Z"
    },
    "collapsed": true
   },
   "outputs": [],
   "source": [
    "labels = X_test.columns.values"
   ]
  },
  {
   "cell_type": "code",
   "execution_count": 147,
   "metadata": {
    "ExecuteTime": {
     "end_time": "2018-07-21T01:09:10.540185Z",
     "start_time": "2018-07-21T01:09:10.532780Z"
    },
    "collapsed": true
   },
   "outputs": [],
   "source": [
    "visualize_tree(dt, labels)"
   ]
  },
  {
   "cell_type": "code",
   "execution_count": 148,
   "metadata": {
    "ExecuteTime": {
     "end_time": "2018-07-21T01:09:11.512324Z",
     "start_time": "2018-07-21T01:09:11.410397Z"
    },
    "collapsed": true
   },
   "outputs": [],
   "source": [
    "%%bash\n",
    "dot -Tpng dt.dot -o dt2.png"
   ]
  },
  {
   "cell_type": "code",
   "execution_count": 133,
   "metadata": {
    "ExecuteTime": {
     "end_time": "2018-07-21T00:59:55.503857Z",
     "start_time": "2018-07-21T00:59:55.496842Z"
    }
   },
   "outputs": [
    {
     "data": {
      "text/plain": [
       "DecisionTreeClassifier(class_weight=None, criterion='gini', max_depth=10,\n",
       "            max_features=None, max_leaf_nodes=10,\n",
       "            min_impurity_decrease=0.0, min_impurity_split=None,\n",
       "            min_samples_leaf=1, min_samples_split=2,\n",
       "            min_weight_fraction_leaf=0.0, presort=False, random_state=None,\n",
       "            splitter='best')"
      ]
     },
     "execution_count": 133,
     "metadata": {},
     "output_type": "execute_result"
    }
   ],
   "source": [
    "dt"
   ]
  },
  {
   "cell_type": "code",
   "execution_count": null,
   "metadata": {
    "collapsed": true
   },
   "outputs": [],
   "source": []
  }
 ],
 "metadata": {
  "hide_input": false,
  "kernelspec": {
   "display_name": "Python 3",
   "language": "python",
   "name": "python3"
  },
  "language_info": {
   "codemirror_mode": {
    "name": "ipython",
    "version": 3
   },
   "file_extension": ".py",
   "mimetype": "text/x-python",
   "name": "python",
   "nbconvert_exporter": "python",
   "pygments_lexer": "ipython3",
   "version": "3.6.3"
  },
  "toc": {
   "base_numbering": 1,
   "nav_menu": {},
   "number_sections": true,
   "sideBar": true,
   "skip_h1_title": false,
   "title_cell": "Table of Contents",
   "title_sidebar": "Contents",
   "toc_cell": false,
   "toc_position": {
    "height": "calc(100% - 180px)",
    "left": "10px",
    "top": "150px",
    "width": "166px"
   },
   "toc_section_display": true,
   "toc_window_display": true
  }
 },
 "nbformat": 4,
 "nbformat_minor": 2
}
